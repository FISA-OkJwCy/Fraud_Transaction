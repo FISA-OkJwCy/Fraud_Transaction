{
 "cells": [
  {
   "cell_type": "markdown",
   "metadata": {},
   "source": [
    "Import"
   ]
  },
  {
   "cell_type": "code",
   "execution_count": 1,
   "metadata": {},
   "outputs": [],
   "source": [
    "import pandas as pd\n",
    "import numpy as np\n",
    "\n",
    "from sklearn.ensemble import IsolationForest\n",
    "from sklearn.metrics import f1_score\n",
    "from sklearn.metrics import classification_report\n",
    "\n",
    "import matplotlib.pyplot as plt\n",
    "\n",
    "import warnings\n",
    "warnings.filterwarnings(action='ignore')"
   ]
  },
  {
   "cell_type": "markdown",
   "metadata": {},
   "source": [
    "#### Data Load\n",
    "Train set에는 사기 여부 X\n",
    "\n",
    "Validation set에는 사기 여부 O (정상 : 0, 사기 :1 )"
   ]
  },
  {
   "cell_type": "code",
   "execution_count": 2,
   "metadata": {},
   "outputs": [],
   "source": [
    "train_df = pd.read_csv('data/train.csv') # Train : 113842 rows × 31 columns\n",
    "val_df = pd.read_csv('data/val.csv') # Validation : 28462 rows × 32 columns\n",
    "test_df = pd.read_csv('data/test.csv') # Test : 142503 rows × 31 columns"
   ]
  },
  {
   "cell_type": "markdown",
   "metadata": {},
   "source": [
    "#### 결측치 확인"
   ]
  },
  {
   "cell_type": "code",
   "execution_count": null,
   "metadata": {},
   "outputs": [],
   "source": [
    "train_df.isnull().sum()"
   ]
  },
  {
   "cell_type": "code",
   "execution_count": null,
   "metadata": {},
   "outputs": [],
   "source": [
    "val_df.isnull().sum()"
   ]
  },
  {
   "cell_type": "markdown",
   "metadata": {},
   "source": [
    "## 1) EDA"
   ]
  },
  {
   "cell_type": "code",
   "execution_count": null,
   "metadata": {},
   "outputs": [],
   "source": [
    "val_df.describe()"
   ]
  },
  {
   "cell_type": "markdown",
   "metadata": {},
   "source": [
    "##### Train & Validation Feature 분포 확인"
   ]
  },
  {
   "cell_type": "code",
   "execution_count": null,
   "metadata": {},
   "outputs": [],
   "source": [
    "train = train_df.drop(['ID'],axis=1)\n",
    "val = val_df.drop(['ID'],axis=1)\n",
    "test = test_df.drop(['ID'],axis=1)"
   ]
  },
  {
   "cell_type": "code",
   "execution_count": null,
   "metadata": {},
   "outputs": [],
   "source": [
    "train.hist(bins = 50, figsize = (20,20))\n",
    "plt.show()"
   ]
  },
  {
   "cell_type": "code",
   "execution_count": null,
   "metadata": {},
   "outputs": [],
   "source": [
    "val.hist(bins = 50, figsize = (20,20))\n",
    "plt.show()"
   ]
  },
  {
   "cell_type": "code",
   "execution_count": null,
   "metadata": {},
   "outputs": [],
   "source": [
    "val_class0 = val[val['Class']==0]\n",
    "val_class1 = val[val['Class']==1]\n",
    "columns = val.drop('Class', axis=1).columns\n",
    "\n",
    "import matplotlib.gridspec as gridspec\n",
    "import matplotlib.pyplot as plt \n",
    "import seaborn as sns \n",
    "\n",
    "grid = gridspec.GridSpec(6, 6)\n",
    "plt.figure(figsize=(20, 20))\n",
    "\n",
    "for n, col in enumerate(val_df[columns]):\n",
    "    ax = plt.subplot(grid[n])\n",
    "    sns.histplot(val_class0[col], bins=50, color='dodgerblue', stat='density', kde=True)\n",
    "    sns.histplot(val_class1[col], bins=50, color='orangered', stat='density', kde=True)\n",
    "    ax.set_title(str(col))\n",
    "    ax.set_xlabel('')\n",
    "    \n",
    "plt.show()"
   ]
  },
  {
   "cell_type": "markdown",
   "metadata": {},
   "source": [
    "Features correlation"
   ]
  },
  {
   "cell_type": "code",
   "execution_count": null,
   "metadata": {},
   "outputs": [],
   "source": [
    "plt.figure(figsize = (14,14))\n",
    "plt.title('features correlation plot (Pearson)')\n",
    "corr = train.corr()\n",
    "sns.heatmap(corr,xticklabels=corr.columns,yticklabels=corr.columns,linewidths=.1,cmap=\"Reds\")\n",
    "plt.show()"
   ]
  },
  {
   "cell_type": "markdown",
   "metadata": {},
   "source": [
    "validation set에서의 사기 비율"
   ]
  },
  {
   "cell_type": "code",
   "execution_count": 12,
   "metadata": {},
   "outputs": [
    {
     "name": "stdout",
     "output_type": "stream",
     "text": [
      "사기 비율 : 0.0010551491277433877\n"
     ]
    }
   ],
   "source": [
    "val_normal, val_fraud = val_df['Class'].value_counts()\n",
    "val_contamination = val_fraud / val_normal\n",
    "print(f'사기 비율 : {val_contamination}')"
   ]
  },
  {
   "cell_type": "markdown",
   "metadata": {},
   "source": [
    "## 2) 베이스라인 모델"
   ]
  },
  {
   "cell_type": "markdown",
   "metadata": {},
   "source": [
    "#### 알고리즘 1 : k-means"
   ]
  },
  {
   "cell_type": "code",
   "execution_count": 3,
   "metadata": {},
   "outputs": [],
   "source": [
    "from sklearn.metrics import classification_report\n",
    "from sklearn.metrics import make_scorer, f1_score\n",
    "from sklearn import model_selection\n",
    "from sklearn.cluster import KMeans\n",
    "from sklearn.covariance import EllipticEnvelope"
   ]
  },
  {
   "cell_type": "markdown",
   "metadata": {},
   "source": [
    "k_X_train : train_df에서 ID를 제외한 V1~V30\n",
    "\n",
    "k_X_val : val_df에서 ID와 Class를 제외한 V1~V30"
   ]
  },
  {
   "cell_type": "code",
   "execution_count": 4,
   "metadata": {},
   "outputs": [],
   "source": [
    "k_X_train = train_df.drop('ID', axis=1)\n",
    "\n",
    "k_X_val = val_df.drop(['ID', 'Class'], axis=1)\n",
    "k_y_val = val_df['Class']"
   ]
  },
  {
   "cell_type": "markdown",
   "metadata": {},
   "source": [
    "모델 학습"
   ]
  },
  {
   "cell_type": "code",
   "execution_count": 5,
   "metadata": {},
   "outputs": [],
   "source": [
    "kmeans = KMeans(n_clusters=2, init='k-means++', max_iter=300, random_state=42)\n",
    "kmeans.fit(k_X_train)\n",
    "kmeans_val_pred = kmeans.predict(k_X_val.to_numpy())"
   ]
  },
  {
   "cell_type": "markdown",
   "metadata": {},
   "source": [
    "모델 결과 확인"
   ]
  },
  {
   "cell_type": "code",
   "execution_count": 6,
   "metadata": {},
   "outputs": [
    {
     "name": "stdout",
     "output_type": "stream",
     "text": [
      "클래스 : [0 1], 클래스별 개수 : [27911   551]\n",
      "정상 데이터 : 27911, 사기 데이터 : 551\n",
      "검증 데이터의 사기 비율 : [0.019741320626276378]\n"
     ]
    }
   ],
   "source": [
    "unique, counts = np.unique(kmeans_val_pred, return_counts=True)\n",
    "kmeans_contamination = counts[1] / counts[0]\n",
    "print(f'클래스 : {unique}, 클래스별 개수 : {counts}')\n",
    "print(f'정상 데이터 : {counts[0]}, 사기 데이터 : {counts[1]}')\n",
    "print(f'검증 데이터의 사기 비율 : [{kmeans_contamination}]')"
   ]
  },
  {
   "cell_type": "markdown",
   "metadata": {},
   "source": [
    "모델 성능 확인 - classification report"
   ]
  },
  {
   "cell_type": "code",
   "execution_count": 7,
   "metadata": {},
   "outputs": [
    {
     "name": "stdout",
     "output_type": "stream",
     "text": [
      "              precision    recall  f1-score   support\n",
      "\n",
      "           0       1.00      0.98      0.99     28432\n",
      "           1       0.00      0.00      0.00        30\n",
      "\n",
      "    accuracy                           0.98     28462\n",
      "   macro avg       0.50      0.49      0.49     28462\n",
      "weighted avg       1.00      0.98      0.99     28462\n",
      "\n"
     ]
    }
   ],
   "source": [
    "k_report = classification_report(k_y_val, kmeans_val_pred)\n",
    "print(k_report)"
   ]
  },
  {
   "cell_type": "markdown",
   "metadata": {},
   "source": [
    "모델 성능 확인 - f1 score"
   ]
  },
  {
   "cell_type": "code",
   "execution_count": 9,
   "metadata": {},
   "outputs": [
    {
     "name": "stdout",
     "output_type": "stream",
     "text": [
      "Validation F1 Score : [0.4948440800099391]\n"
     ]
    }
   ],
   "source": [
    "k_f1_score = f1_score(k_y_val, kmeans_val_pred, average = \"macro\")\n",
    "print(f'Validation F1 Score : [{k_f1_score}]')"
   ]
  },
  {
   "cell_type": "markdown",
   "metadata": {},
   "source": [
    "## 3) 성능개선 과정"
   ]
  },
  {
   "cell_type": "markdown",
   "metadata": {},
   "source": [
    "#### 알고리즘 2 : EllipticEnvelope"
   ]
  },
  {
   "cell_type": "code",
   "execution_count": 10,
   "metadata": {},
   "outputs": [],
   "source": [
    "ell_X_train = train_df.drop('ID', axis=1)\n",
    "\n",
    "ell_X_val = val_df.drop(['ID', 'Class'], axis=1)\n",
    "ell_y_val = val_df['Class']"
   ]
  },
  {
   "cell_type": "markdown",
   "metadata": {},
   "source": [
    "모델 학습"
   ]
  },
  {
   "cell_type": "markdown",
   "metadata": {},
   "source": [
    "(*) Validation set의 사기 거래 비율이 다른 데이터 셋에서도 비슷하게 발생할 것이라고 가정\n",
    "    \n",
    "    -> model parameter : contamination=val_contamination(=0.001055) 적용"
   ]
  },
  {
   "cell_type": "code",
   "execution_count": 13,
   "metadata": {},
   "outputs": [],
   "source": [
    "ell = EllipticEnvelope(contamination=val_contamination)\n",
    "ell.fit(k_X_train)\n",
    "ell_val_pred = ell.predict(k_X_val)"
   ]
  },
  {
   "cell_type": "markdown",
   "metadata": {},
   "source": [
    "Class 컬럼\n",
    "- 0: 정상 거래\n",
    "- 1: 사기 거래\n",
    "\n",
    "ell_val_pred\n",
    "- 1: 정상 거래\n",
    "- -1 : 이상거래"
   ]
  },
  {
   "cell_type": "code",
   "execution_count": 14,
   "metadata": {},
   "outputs": [],
   "source": [
    "def get_pred_label(model_pred):\n",
    "    model_pred = np.where(model_pred == 1, 0, model_pred)\n",
    "    model_pred = np.where(model_pred == -1, 1, model_pred)\n",
    "    return model_pred"
   ]
  },
  {
   "cell_type": "code",
   "execution_count": 15,
   "metadata": {},
   "outputs": [],
   "source": [
    "ell_val_pred = get_pred_label(ell_val_pred)"
   ]
  },
  {
   "cell_type": "markdown",
   "metadata": {},
   "source": [
    "모델 결과 확인"
   ]
  },
  {
   "cell_type": "code",
   "execution_count": 16,
   "metadata": {},
   "outputs": [
    {
     "name": "stdout",
     "output_type": "stream",
     "text": [
      "클래스 : [0 1], 클래스별 개수 : [28433    29]\n",
      "정상 데이터 : 28433, 사기 데이터 : 29\n",
      "검증 데이터의 사기 비율 : [0.0010199416171350192]\n"
     ]
    }
   ],
   "source": [
    "unique, counts = np.unique(ell_val_pred, return_counts=True)\n",
    "ell_contamination = counts[1] / counts[0]\n",
    "print(f'클래스 : {unique}, 클래스별 개수 : {counts}')\n",
    "print(f'정상 데이터 : {counts[0]}, 사기 데이터 : {counts[1]}')\n",
    "print(f'검증 데이터의 사기 비율 : [{ell_contamination}]')"
   ]
  },
  {
   "cell_type": "markdown",
   "metadata": {},
   "source": [
    "모델 성능 확인 - classification_report"
   ]
  },
  {
   "cell_type": "code",
   "execution_count": 17,
   "metadata": {},
   "outputs": [
    {
     "name": "stdout",
     "output_type": "stream",
     "text": [
      "              precision    recall  f1-score   support\n",
      "\n",
      "           0       1.00      1.00      1.00     28432\n",
      "           1       0.00      0.00      0.00        30\n",
      "\n",
      "    accuracy                           1.00     28462\n",
      "   macro avg       0.50      0.50      0.50     28462\n",
      "weighted avg       1.00      1.00      1.00     28462\n",
      "\n"
     ]
    }
   ],
   "source": [
    "ell_report = classification_report(ell_y_val, ell_val_pred)\n",
    "print(ell_report)"
   ]
  },
  {
   "cell_type": "markdown",
   "metadata": {},
   "source": [
    "모델 성능 확인 - f1 score"
   ]
  },
  {
   "cell_type": "code",
   "execution_count": 18,
   "metadata": {},
   "outputs": [
    {
     "name": "stdout",
     "output_type": "stream",
     "text": [
      "Validation F1 Score : [0.49948122746856594]\n"
     ]
    }
   ],
   "source": [
    "ell_f1_score = f1_score(ell_y_val, ell_val_pred, average = \"macro\")\n",
    "print(f'Validation F1 Score : [{ell_f1_score}]')"
   ]
  },
  {
   "cell_type": "markdown",
   "metadata": {},
   "source": [
    "#### 알고리즘 3 : IsolationForest\n",
    "밀도 기반으로 이상치를 탐지하는 알고리즘<br>\n",
    "Random Forest의 변형 알고리즘\n",
    "\n",
    "데이터의 이상치가 속한 구역을 찾아내기 위해 무작위로 분할을 수행하는 결정트리 이용 (균등하게 분할되지 X)\n",
    "\n",
    "--> 무작위 분할을 통해 각 분할 구간의 경계선을 찾아내며, 이를 이용하여 이상치 구별\n",
    "\n",
    "각 결정트리에서 이상치로 판단되는 데이터는 더 적은 분할 횟수를 거침\n",
    "\n",
    "장점\n",
    "- 이상치 탐지에 있어 성능이 높다\n",
    "- 학습 데이터의 크기에 비해 빠른 속도로 탐지\n",
    "- 상대적으로 적은 메모리 필요\n",
    "\n",
    "단점\n",
    "- 특정 데이터에 대해 이상치를 정확하게 판단하지 못함"
   ]
  },
  {
   "cell_type": "code",
   "execution_count": 19,
   "metadata": {},
   "outputs": [],
   "source": [
    "IF_X_train = train_df.drop('ID', axis=1)\n",
    "\n",
    "IF_X_val = val_df.drop(['ID', 'Class'], axis=1)\n",
    "IF_y_val = val_df['Class']"
   ]
  },
  {
   "cell_type": "markdown",
   "metadata": {},
   "source": [
    "(*) Validation set의 사기 거래 비율이 다른 데이터 셋에서도 비슷하게 발생할 것이라고 가정\n",
    "    \n",
    "    -> model parameter : contamination=val_contamination(=0.001055) 적용"
   ]
  },
  {
   "cell_type": "code",
   "execution_count": 20,
   "metadata": {},
   "outputs": [
    {
     "data": {
      "text/html": [
       "<style>#sk-container-id-1 {color: black;background-color: white;}#sk-container-id-1 pre{padding: 0;}#sk-container-id-1 div.sk-toggleable {background-color: white;}#sk-container-id-1 label.sk-toggleable__label {cursor: pointer;display: block;width: 100%;margin-bottom: 0;padding: 0.3em;box-sizing: border-box;text-align: center;}#sk-container-id-1 label.sk-toggleable__label-arrow:before {content: \"▸\";float: left;margin-right: 0.25em;color: #696969;}#sk-container-id-1 label.sk-toggleable__label-arrow:hover:before {color: black;}#sk-container-id-1 div.sk-estimator:hover label.sk-toggleable__label-arrow:before {color: black;}#sk-container-id-1 div.sk-toggleable__content {max-height: 0;max-width: 0;overflow: hidden;text-align: left;background-color: #f0f8ff;}#sk-container-id-1 div.sk-toggleable__content pre {margin: 0.2em;color: black;border-radius: 0.25em;background-color: #f0f8ff;}#sk-container-id-1 input.sk-toggleable__control:checked~div.sk-toggleable__content {max-height: 200px;max-width: 100%;overflow: auto;}#sk-container-id-1 input.sk-toggleable__control:checked~label.sk-toggleable__label-arrow:before {content: \"▾\";}#sk-container-id-1 div.sk-estimator input.sk-toggleable__control:checked~label.sk-toggleable__label {background-color: #d4ebff;}#sk-container-id-1 div.sk-label input.sk-toggleable__control:checked~label.sk-toggleable__label {background-color: #d4ebff;}#sk-container-id-1 input.sk-hidden--visually {border: 0;clip: rect(1px 1px 1px 1px);clip: rect(1px, 1px, 1px, 1px);height: 1px;margin: -1px;overflow: hidden;padding: 0;position: absolute;width: 1px;}#sk-container-id-1 div.sk-estimator {font-family: monospace;background-color: #f0f8ff;border: 1px dotted black;border-radius: 0.25em;box-sizing: border-box;margin-bottom: 0.5em;}#sk-container-id-1 div.sk-estimator:hover {background-color: #d4ebff;}#sk-container-id-1 div.sk-parallel-item::after {content: \"\";width: 100%;border-bottom: 1px solid gray;flex-grow: 1;}#sk-container-id-1 div.sk-label:hover label.sk-toggleable__label {background-color: #d4ebff;}#sk-container-id-1 div.sk-serial::before {content: \"\";position: absolute;border-left: 1px solid gray;box-sizing: border-box;top: 0;bottom: 0;left: 50%;z-index: 0;}#sk-container-id-1 div.sk-serial {display: flex;flex-direction: column;align-items: center;background-color: white;padding-right: 0.2em;padding-left: 0.2em;position: relative;}#sk-container-id-1 div.sk-item {position: relative;z-index: 1;}#sk-container-id-1 div.sk-parallel {display: flex;align-items: stretch;justify-content: center;background-color: white;position: relative;}#sk-container-id-1 div.sk-item::before, #sk-container-id-1 div.sk-parallel-item::before {content: \"\";position: absolute;border-left: 1px solid gray;box-sizing: border-box;top: 0;bottom: 0;left: 50%;z-index: -1;}#sk-container-id-1 div.sk-parallel-item {display: flex;flex-direction: column;z-index: 1;position: relative;background-color: white;}#sk-container-id-1 div.sk-parallel-item:first-child::after {align-self: flex-end;width: 50%;}#sk-container-id-1 div.sk-parallel-item:last-child::after {align-self: flex-start;width: 50%;}#sk-container-id-1 div.sk-parallel-item:only-child::after {width: 0;}#sk-container-id-1 div.sk-dashed-wrapped {border: 1px dashed gray;margin: 0 0.4em 0.5em 0.4em;box-sizing: border-box;padding-bottom: 0.4em;background-color: white;}#sk-container-id-1 div.sk-label label {font-family: monospace;font-weight: bold;display: inline-block;line-height: 1.2em;}#sk-container-id-1 div.sk-label-container {text-align: center;}#sk-container-id-1 div.sk-container {/* jupyter's `normalize.less` sets `[hidden] { display: none; }` but bootstrap.min.css set `[hidden] { display: none !important; }` so we also need the `!important` here to be able to override the default hidden behavior on the sphinx rendered scikit-learn.org. See: https://github.com/scikit-learn/scikit-learn/issues/21755 */display: inline-block !important;position: relative;}#sk-container-id-1 div.sk-text-repr-fallback {display: none;}</style><div id=\"sk-container-id-1\" class=\"sk-top-container\"><div class=\"sk-text-repr-fallback\"><pre>IsolationForest(contamination=0.0010551491277433877, max_samples=113842,\n",
       "                n_estimators=125, random_state=42)</pre><b>In a Jupyter environment, please rerun this cell to show the HTML representation or trust the notebook. <br />On GitHub, the HTML representation is unable to render, please try loading this page with nbviewer.org.</b></div><div class=\"sk-container\" hidden><div class=\"sk-item\"><div class=\"sk-estimator sk-toggleable\"><input class=\"sk-toggleable__control sk-hidden--visually\" id=\"sk-estimator-id-1\" type=\"checkbox\" checked><label for=\"sk-estimator-id-1\" class=\"sk-toggleable__label sk-toggleable__label-arrow\">IsolationForest</label><div class=\"sk-toggleable__content\"><pre>IsolationForest(contamination=0.0010551491277433877, max_samples=113842,\n",
       "                n_estimators=125, random_state=42)</pre></div></div></div></div></div>"
      ],
      "text/plain": [
       "IsolationForest(contamination=0.0010551491277433877, max_samples=113842,\n",
       "                n_estimators=125, random_state=42)"
      ]
     },
     "execution_count": 20,
     "metadata": {},
     "output_type": "execute_result"
    }
   ],
   "source": [
    "from sklearn.ensemble import IsolationForest \n",
    "\n",
    "IFmodel=IsolationForest(n_estimators=125, \n",
    "                      max_samples=len(train_df), \n",
    "                      contamination=val_contamination, \n",
    "                      random_state=42, \n",
    "                      verbose=0)\n",
    "IFmodel.fit(IF_X_train)"
   ]
  },
  {
   "cell_type": "markdown",
   "metadata": {},
   "source": [
    "decision_function() 메서드와 predict() 메서드를 사용하여 train_df 데이터프레임의 이상치를 탐지\n",
    "\n",
    "- decision_function() 메서드는 Isolation Forest 모델에서 데이터 포인트의 이상치 점수를 계산합니다. 계산된 이상치 점수는 해당 데이터 포인트가 이상치일 확률을 나타냅니다. 이상치일 가능성이 높을수록 점수가 더 낮아집니다.\n",
    "\n",
    "- predict() 메서드는 decision_function() 메서드에서 계산된 이상치 점수를 바탕으로 데이터 포인트가 이상치인지 여부를 결정합니다. 이상치인 경우 1을, 정상적인 데이터 포인트인 경우 0을 반환합니다.\n"
   ]
  },
  {
   "cell_type": "code",
   "execution_count": 22,
   "metadata": {},
   "outputs": [],
   "source": [
    "score=IFmodel.decision_function(IF_X_train.to_numpy())\n",
    "anomaly=IFmodel.predict(IF_X_train.to_numpy())"
   ]
  },
  {
   "cell_type": "code",
   "execution_count": 23,
   "metadata": {},
   "outputs": [],
   "source": [
    "IF_X_train['scores']=score\n",
    "IF_X_train['anomaly']=anomaly"
   ]
  },
  {
   "cell_type": "code",
   "execution_count": 24,
   "metadata": {},
   "outputs": [
    {
     "data": {
      "text/html": [
       "<div>\n",
       "<style scoped>\n",
       "    .dataframe tbody tr th:only-of-type {\n",
       "        vertical-align: middle;\n",
       "    }\n",
       "\n",
       "    .dataframe tbody tr th {\n",
       "        vertical-align: top;\n",
       "    }\n",
       "\n",
       "    .dataframe thead th {\n",
       "        text-align: right;\n",
       "    }\n",
       "</style>\n",
       "<table border=\"1\" class=\"dataframe\">\n",
       "  <thead>\n",
       "    <tr style=\"text-align: right;\">\n",
       "      <th></th>\n",
       "      <th>V1</th>\n",
       "      <th>V2</th>\n",
       "      <th>V3</th>\n",
       "      <th>V4</th>\n",
       "      <th>V5</th>\n",
       "      <th>V6</th>\n",
       "      <th>V7</th>\n",
       "      <th>V8</th>\n",
       "      <th>V9</th>\n",
       "      <th>V10</th>\n",
       "      <th>...</th>\n",
       "      <th>V23</th>\n",
       "      <th>V24</th>\n",
       "      <th>V25</th>\n",
       "      <th>V26</th>\n",
       "      <th>V27</th>\n",
       "      <th>V28</th>\n",
       "      <th>V29</th>\n",
       "      <th>V30</th>\n",
       "      <th>scores</th>\n",
       "      <th>anomaly</th>\n",
       "    </tr>\n",
       "  </thead>\n",
       "  <tbody>\n",
       "    <tr>\n",
       "      <th>0</th>\n",
       "      <td>-1.358354</td>\n",
       "      <td>-1.340163</td>\n",
       "      <td>1.773209</td>\n",
       "      <td>0.379780</td>\n",
       "      <td>-0.503198</td>\n",
       "      <td>1.800499</td>\n",
       "      <td>0.791461</td>\n",
       "      <td>0.247676</td>\n",
       "      <td>-1.514654</td>\n",
       "      <td>0.207643</td>\n",
       "      <td>...</td>\n",
       "      <td>0.909412</td>\n",
       "      <td>-0.689281</td>\n",
       "      <td>-0.327642</td>\n",
       "      <td>-0.139097</td>\n",
       "      <td>-0.055353</td>\n",
       "      <td>-0.059752</td>\n",
       "      <td>4.983721</td>\n",
       "      <td>-0.994972</td>\n",
       "      <td>0.204528</td>\n",
       "      <td>1</td>\n",
       "    </tr>\n",
       "    <tr>\n",
       "      <th>1</th>\n",
       "      <td>-0.966272</td>\n",
       "      <td>-0.185226</td>\n",
       "      <td>1.792993</td>\n",
       "      <td>-0.863291</td>\n",
       "      <td>-0.010309</td>\n",
       "      <td>1.247203</td>\n",
       "      <td>0.237609</td>\n",
       "      <td>0.377436</td>\n",
       "      <td>-1.387024</td>\n",
       "      <td>-0.054952</td>\n",
       "      <td>...</td>\n",
       "      <td>-0.190321</td>\n",
       "      <td>-1.175575</td>\n",
       "      <td>0.647376</td>\n",
       "      <td>-0.221929</td>\n",
       "      <td>0.062723</td>\n",
       "      <td>0.061458</td>\n",
       "      <td>1.418291</td>\n",
       "      <td>-0.994972</td>\n",
       "      <td>0.228848</td>\n",
       "      <td>1</td>\n",
       "    </tr>\n",
       "    <tr>\n",
       "      <th>2</th>\n",
       "      <td>-0.425966</td>\n",
       "      <td>0.960523</td>\n",
       "      <td>1.141109</td>\n",
       "      <td>-0.168252</td>\n",
       "      <td>0.420987</td>\n",
       "      <td>-0.029728</td>\n",
       "      <td>0.476201</td>\n",
       "      <td>0.260314</td>\n",
       "      <td>-0.568671</td>\n",
       "      <td>-0.371407</td>\n",
       "      <td>...</td>\n",
       "      <td>-0.026398</td>\n",
       "      <td>-0.371427</td>\n",
       "      <td>-0.232794</td>\n",
       "      <td>0.105915</td>\n",
       "      <td>0.253844</td>\n",
       "      <td>0.081080</td>\n",
       "      <td>-0.256131</td>\n",
       "      <td>-0.994960</td>\n",
       "      <td>0.245011</td>\n",
       "      <td>1</td>\n",
       "    </tr>\n",
       "    <tr>\n",
       "      <th>3</th>\n",
       "      <td>-0.644269</td>\n",
       "      <td>1.417964</td>\n",
       "      <td>1.074380</td>\n",
       "      <td>-0.492199</td>\n",
       "      <td>0.948934</td>\n",
       "      <td>0.428118</td>\n",
       "      <td>1.120631</td>\n",
       "      <td>-3.807864</td>\n",
       "      <td>0.615375</td>\n",
       "      <td>1.249376</td>\n",
       "      <td>...</td>\n",
       "      <td>0.057504</td>\n",
       "      <td>-0.649709</td>\n",
       "      <td>-0.415267</td>\n",
       "      <td>-0.051634</td>\n",
       "      <td>-1.206921</td>\n",
       "      <td>-1.085339</td>\n",
       "      <td>0.262698</td>\n",
       "      <td>-0.994901</td>\n",
       "      <td>0.218990</td>\n",
       "      <td>1</td>\n",
       "    </tr>\n",
       "    <tr>\n",
       "      <th>4</th>\n",
       "      <td>-0.894286</td>\n",
       "      <td>0.286157</td>\n",
       "      <td>-0.113192</td>\n",
       "      <td>-0.271526</td>\n",
       "      <td>2.669599</td>\n",
       "      <td>3.721818</td>\n",
       "      <td>0.370145</td>\n",
       "      <td>0.851084</td>\n",
       "      <td>-0.392048</td>\n",
       "      <td>-0.410430</td>\n",
       "      <td>...</td>\n",
       "      <td>-0.204233</td>\n",
       "      <td>1.011592</td>\n",
       "      <td>0.373205</td>\n",
       "      <td>-0.384157</td>\n",
       "      <td>0.011747</td>\n",
       "      <td>0.142404</td>\n",
       "      <td>0.994900</td>\n",
       "      <td>-0.994901</td>\n",
       "      <td>0.239372</td>\n",
       "      <td>1</td>\n",
       "    </tr>\n",
       "    <tr>\n",
       "      <th>...</th>\n",
       "      <td>...</td>\n",
       "      <td>...</td>\n",
       "      <td>...</td>\n",
       "      <td>...</td>\n",
       "      <td>...</td>\n",
       "      <td>...</td>\n",
       "      <td>...</td>\n",
       "      <td>...</td>\n",
       "      <td>...</td>\n",
       "      <td>...</td>\n",
       "      <td>...</td>\n",
       "      <td>...</td>\n",
       "      <td>...</td>\n",
       "      <td>...</td>\n",
       "      <td>...</td>\n",
       "      <td>...</td>\n",
       "      <td>...</td>\n",
       "      <td>...</td>\n",
       "      <td>...</td>\n",
       "      <td>...</td>\n",
       "      <td>...</td>\n",
       "    </tr>\n",
       "    <tr>\n",
       "      <th>113837</th>\n",
       "      <td>-12.516732</td>\n",
       "      <td>10.187818</td>\n",
       "      <td>-8.476671</td>\n",
       "      <td>-2.510473</td>\n",
       "      <td>-4.586669</td>\n",
       "      <td>-1.394465</td>\n",
       "      <td>-3.632516</td>\n",
       "      <td>5.498583</td>\n",
       "      <td>4.893089</td>\n",
       "      <td>8.655320</td>\n",
       "      <td>...</td>\n",
       "      <td>0.890675</td>\n",
       "      <td>-1.253276</td>\n",
       "      <td>1.786717</td>\n",
       "      <td>0.320763</td>\n",
       "      <td>2.090712</td>\n",
       "      <td>1.232864</td>\n",
       "      <td>-0.169496</td>\n",
       "      <td>1.034857</td>\n",
       "      <td>0.082280</td>\n",
       "      <td>1</td>\n",
       "    </tr>\n",
       "    <tr>\n",
       "      <th>113838</th>\n",
       "      <td>1.884849</td>\n",
       "      <td>-0.143540</td>\n",
       "      <td>-0.999943</td>\n",
       "      <td>1.506772</td>\n",
       "      <td>-0.035300</td>\n",
       "      <td>-0.613638</td>\n",
       "      <td>0.190241</td>\n",
       "      <td>-0.249058</td>\n",
       "      <td>0.666458</td>\n",
       "      <td>0.120908</td>\n",
       "      <td>...</td>\n",
       "      <td>-0.042114</td>\n",
       "      <td>-0.053206</td>\n",
       "      <td>0.316403</td>\n",
       "      <td>-0.461441</td>\n",
       "      <td>0.018265</td>\n",
       "      <td>-0.041068</td>\n",
       "      <td>0.530986</td>\n",
       "      <td>1.034881</td>\n",
       "      <td>0.246407</td>\n",
       "      <td>1</td>\n",
       "    </tr>\n",
       "    <tr>\n",
       "      <th>113839</th>\n",
       "      <td>-0.241923</td>\n",
       "      <td>0.712247</td>\n",
       "      <td>0.399806</td>\n",
       "      <td>-0.463406</td>\n",
       "      <td>0.244531</td>\n",
       "      <td>-1.343668</td>\n",
       "      <td>0.929369</td>\n",
       "      <td>-0.206210</td>\n",
       "      <td>0.106234</td>\n",
       "      <td>-0.284708</td>\n",
       "      <td>...</td>\n",
       "      <td>0.279598</td>\n",
       "      <td>0.371441</td>\n",
       "      <td>-0.559238</td>\n",
       "      <td>0.113144</td>\n",
       "      <td>0.131507</td>\n",
       "      <td>0.081265</td>\n",
       "      <td>-0.230699</td>\n",
       "      <td>1.034904</td>\n",
       "      <td>0.251669</td>\n",
       "      <td>1</td>\n",
       "    </tr>\n",
       "    <tr>\n",
       "      <th>113840</th>\n",
       "      <td>0.120316</td>\n",
       "      <td>0.931005</td>\n",
       "      <td>-0.546012</td>\n",
       "      <td>-0.745097</td>\n",
       "      <td>1.130314</td>\n",
       "      <td>-0.235973</td>\n",
       "      <td>0.812722</td>\n",
       "      <td>0.115093</td>\n",
       "      <td>-0.204064</td>\n",
       "      <td>-0.657422</td>\n",
       "      <td>...</td>\n",
       "      <td>0.050343</td>\n",
       "      <td>0.102800</td>\n",
       "      <td>-0.435870</td>\n",
       "      <td>0.124079</td>\n",
       "      <td>0.217940</td>\n",
       "      <td>0.068803</td>\n",
       "      <td>-0.269825</td>\n",
       "      <td>1.034939</td>\n",
       "      <td>0.252301</td>\n",
       "      <td>1</td>\n",
       "    </tr>\n",
       "    <tr>\n",
       "      <th>113841</th>\n",
       "      <td>-11.881118</td>\n",
       "      <td>10.071785</td>\n",
       "      <td>-9.834783</td>\n",
       "      <td>-2.066656</td>\n",
       "      <td>-5.364473</td>\n",
       "      <td>-2.606837</td>\n",
       "      <td>-4.918215</td>\n",
       "      <td>7.305334</td>\n",
       "      <td>1.914428</td>\n",
       "      <td>4.356170</td>\n",
       "      <td>...</td>\n",
       "      <td>1.014480</td>\n",
       "      <td>-0.509348</td>\n",
       "      <td>1.436807</td>\n",
       "      <td>0.250034</td>\n",
       "      <td>0.943651</td>\n",
       "      <td>0.823731</td>\n",
       "      <td>-0.296653</td>\n",
       "      <td>1.034951</td>\n",
       "      <td>0.100514</td>\n",
       "      <td>1</td>\n",
       "    </tr>\n",
       "  </tbody>\n",
       "</table>\n",
       "<p>113842 rows × 32 columns</p>\n",
       "</div>"
      ],
      "text/plain": [
       "               V1         V2        V3        V4        V5        V6  \\\n",
       "0       -1.358354  -1.340163  1.773209  0.379780 -0.503198  1.800499   \n",
       "1       -0.966272  -0.185226  1.792993 -0.863291 -0.010309  1.247203   \n",
       "2       -0.425966   0.960523  1.141109 -0.168252  0.420987 -0.029728   \n",
       "3       -0.644269   1.417964  1.074380 -0.492199  0.948934  0.428118   \n",
       "4       -0.894286   0.286157 -0.113192 -0.271526  2.669599  3.721818   \n",
       "...           ...        ...       ...       ...       ...       ...   \n",
       "113837 -12.516732  10.187818 -8.476671 -2.510473 -4.586669 -1.394465   \n",
       "113838   1.884849  -0.143540 -0.999943  1.506772 -0.035300 -0.613638   \n",
       "113839  -0.241923   0.712247  0.399806 -0.463406  0.244531 -1.343668   \n",
       "113840   0.120316   0.931005 -0.546012 -0.745097  1.130314 -0.235973   \n",
       "113841 -11.881118  10.071785 -9.834783 -2.066656 -5.364473 -2.606837   \n",
       "\n",
       "              V7        V8        V9       V10  ...       V23       V24  \\\n",
       "0       0.791461  0.247676 -1.514654  0.207643  ...  0.909412 -0.689281   \n",
       "1       0.237609  0.377436 -1.387024 -0.054952  ... -0.190321 -1.175575   \n",
       "2       0.476201  0.260314 -0.568671 -0.371407  ... -0.026398 -0.371427   \n",
       "3       1.120631 -3.807864  0.615375  1.249376  ...  0.057504 -0.649709   \n",
       "4       0.370145  0.851084 -0.392048 -0.410430  ... -0.204233  1.011592   \n",
       "...          ...       ...       ...       ...  ...       ...       ...   \n",
       "113837 -3.632516  5.498583  4.893089  8.655320  ...  0.890675 -1.253276   \n",
       "113838  0.190241 -0.249058  0.666458  0.120908  ... -0.042114 -0.053206   \n",
       "113839  0.929369 -0.206210  0.106234 -0.284708  ...  0.279598  0.371441   \n",
       "113840  0.812722  0.115093 -0.204064 -0.657422  ...  0.050343  0.102800   \n",
       "113841 -4.918215  7.305334  1.914428  4.356170  ...  1.014480 -0.509348   \n",
       "\n",
       "             V25       V26       V27       V28       V29       V30    scores  \\\n",
       "0      -0.327642 -0.139097 -0.055353 -0.059752  4.983721 -0.994972  0.204528   \n",
       "1       0.647376 -0.221929  0.062723  0.061458  1.418291 -0.994972  0.228848   \n",
       "2      -0.232794  0.105915  0.253844  0.081080 -0.256131 -0.994960  0.245011   \n",
       "3      -0.415267 -0.051634 -1.206921 -1.085339  0.262698 -0.994901  0.218990   \n",
       "4       0.373205 -0.384157  0.011747  0.142404  0.994900 -0.994901  0.239372   \n",
       "...          ...       ...       ...       ...       ...       ...       ...   \n",
       "113837  1.786717  0.320763  2.090712  1.232864 -0.169496  1.034857  0.082280   \n",
       "113838  0.316403 -0.461441  0.018265 -0.041068  0.530986  1.034881  0.246407   \n",
       "113839 -0.559238  0.113144  0.131507  0.081265 -0.230699  1.034904  0.251669   \n",
       "113840 -0.435870  0.124079  0.217940  0.068803 -0.269825  1.034939  0.252301   \n",
       "113841  1.436807  0.250034  0.943651  0.823731 -0.296653  1.034951  0.100514   \n",
       "\n",
       "        anomaly  \n",
       "0             1  \n",
       "1             1  \n",
       "2             1  \n",
       "3             1  \n",
       "4             1  \n",
       "...         ...  \n",
       "113837        1  \n",
       "113838        1  \n",
       "113839        1  \n",
       "113840        1  \n",
       "113841        1  \n",
       "\n",
       "[113842 rows x 32 columns]"
      ]
     },
     "execution_count": 24,
     "metadata": {},
     "output_type": "execute_result"
    }
   ],
   "source": [
    "IF_X_train"
   ]
  },
  {
   "cell_type": "markdown",
   "metadata": {},
   "source": [
    "val_df 로 모델 성능 확인 = 검증"
   ]
  },
  {
   "cell_type": "code",
   "execution_count": 25,
   "metadata": {},
   "outputs": [],
   "source": [
    "score_val=IFmodel.decision_function(IF_X_val.to_numpy())\n",
    "anomaly_val=IFmodel.predict(IF_X_val.to_numpy())"
   ]
  },
  {
   "cell_type": "code",
   "execution_count": 27,
   "metadata": {},
   "outputs": [],
   "source": [
    "IF_X_val['scores']=score_val\n",
    "IF_X_val['anomaly']=anomaly_val"
   ]
  },
  {
   "cell_type": "code",
   "execution_count": 29,
   "metadata": {},
   "outputs": [
    {
     "data": {
      "text/html": [
       "<div>\n",
       "<style scoped>\n",
       "    .dataframe tbody tr th:only-of-type {\n",
       "        vertical-align: middle;\n",
       "    }\n",
       "\n",
       "    .dataframe tbody tr th {\n",
       "        vertical-align: top;\n",
       "    }\n",
       "\n",
       "    .dataframe thead th {\n",
       "        text-align: right;\n",
       "    }\n",
       "</style>\n",
       "<table border=\"1\" class=\"dataframe\">\n",
       "  <thead>\n",
       "    <tr style=\"text-align: right;\">\n",
       "      <th></th>\n",
       "      <th>V1</th>\n",
       "      <th>V2</th>\n",
       "      <th>V3</th>\n",
       "      <th>V4</th>\n",
       "      <th>V5</th>\n",
       "      <th>V6</th>\n",
       "      <th>V7</th>\n",
       "      <th>V8</th>\n",
       "      <th>V9</th>\n",
       "      <th>V10</th>\n",
       "      <th>...</th>\n",
       "      <th>V23</th>\n",
       "      <th>V24</th>\n",
       "      <th>V25</th>\n",
       "      <th>V26</th>\n",
       "      <th>V27</th>\n",
       "      <th>V28</th>\n",
       "      <th>V29</th>\n",
       "      <th>V30</th>\n",
       "      <th>scores</th>\n",
       "      <th>anomaly</th>\n",
       "    </tr>\n",
       "  </thead>\n",
       "  <tbody>\n",
       "    <tr>\n",
       "      <th>0</th>\n",
       "      <td>-0.338262</td>\n",
       "      <td>1.119593</td>\n",
       "      <td>1.044367</td>\n",
       "      <td>-0.222187</td>\n",
       "      <td>0.499361</td>\n",
       "      <td>-0.246761</td>\n",
       "      <td>0.651583</td>\n",
       "      <td>0.069539</td>\n",
       "      <td>-0.736727</td>\n",
       "      <td>-0.366846</td>\n",
       "      <td>...</td>\n",
       "      <td>-0.120794</td>\n",
       "      <td>-0.385050</td>\n",
       "      <td>-0.069733</td>\n",
       "      <td>0.094199</td>\n",
       "      <td>0.246219</td>\n",
       "      <td>0.083076</td>\n",
       "      <td>-0.255991</td>\n",
       "      <td>-0.994878</td>\n",
       "      <td>0.241016</td>\n",
       "      <td>1</td>\n",
       "    </tr>\n",
       "    <tr>\n",
       "      <th>1</th>\n",
       "      <td>0.962496</td>\n",
       "      <td>0.328461</td>\n",
       "      <td>-0.171479</td>\n",
       "      <td>2.109204</td>\n",
       "      <td>1.129566</td>\n",
       "      <td>1.696038</td>\n",
       "      <td>0.107712</td>\n",
       "      <td>0.521502</td>\n",
       "      <td>-1.191311</td>\n",
       "      <td>0.724396</td>\n",
       "      <td>...</td>\n",
       "      <td>-0.048508</td>\n",
       "      <td>-1.371866</td>\n",
       "      <td>0.390814</td>\n",
       "      <td>0.199964</td>\n",
       "      <td>0.016371</td>\n",
       "      <td>-0.014605</td>\n",
       "      <td>0.168937</td>\n",
       "      <td>-0.994784</td>\n",
       "      <td>0.219359</td>\n",
       "      <td>1</td>\n",
       "    </tr>\n",
       "    <tr>\n",
       "      <th>2</th>\n",
       "      <td>1.145524</td>\n",
       "      <td>0.575068</td>\n",
       "      <td>0.194008</td>\n",
       "      <td>2.598192</td>\n",
       "      <td>-0.092210</td>\n",
       "      <td>-1.044430</td>\n",
       "      <td>0.531588</td>\n",
       "      <td>-0.241888</td>\n",
       "      <td>-0.896287</td>\n",
       "      <td>0.757952</td>\n",
       "      <td>...</td>\n",
       "      <td>-0.076510</td>\n",
       "      <td>0.691320</td>\n",
       "      <td>0.633984</td>\n",
       "      <td>0.048741</td>\n",
       "      <td>-0.053192</td>\n",
       "      <td>0.016251</td>\n",
       "      <td>0.169496</td>\n",
       "      <td>-0.994502</td>\n",
       "      <td>0.234993</td>\n",
       "      <td>1</td>\n",
       "    </tr>\n",
       "    <tr>\n",
       "      <th>3</th>\n",
       "      <td>0.927060</td>\n",
       "      <td>-0.323684</td>\n",
       "      <td>0.387585</td>\n",
       "      <td>0.544474</td>\n",
       "      <td>0.246787</td>\n",
       "      <td>1.650358</td>\n",
       "      <td>-0.427576</td>\n",
       "      <td>0.615371</td>\n",
       "      <td>0.226278</td>\n",
       "      <td>-0.225495</td>\n",
       "      <td>...</td>\n",
       "      <td>0.096632</td>\n",
       "      <td>-0.992569</td>\n",
       "      <td>0.085096</td>\n",
       "      <td>0.377447</td>\n",
       "      <td>0.036096</td>\n",
       "      <td>-0.005960</td>\n",
       "      <td>0.331307</td>\n",
       "      <td>-0.994467</td>\n",
       "      <td>0.226669</td>\n",
       "      <td>1</td>\n",
       "    </tr>\n",
       "    <tr>\n",
       "      <th>4</th>\n",
       "      <td>-3.005237</td>\n",
       "      <td>2.600138</td>\n",
       "      <td>1.483691</td>\n",
       "      <td>-2.418473</td>\n",
       "      <td>0.306326</td>\n",
       "      <td>-0.824575</td>\n",
       "      <td>2.065426</td>\n",
       "      <td>-1.829347</td>\n",
       "      <td>4.009259</td>\n",
       "      <td>6.051521</td>\n",
       "      <td>...</td>\n",
       "      <td>-0.163747</td>\n",
       "      <td>0.515821</td>\n",
       "      <td>0.136318</td>\n",
       "      <td>0.460054</td>\n",
       "      <td>-0.251259</td>\n",
       "      <td>-1.105751</td>\n",
       "      <td>-0.287012</td>\n",
       "      <td>-0.994373</td>\n",
       "      <td>0.170190</td>\n",
       "      <td>1</td>\n",
       "    </tr>\n",
       "    <tr>\n",
       "      <th>...</th>\n",
       "      <td>...</td>\n",
       "      <td>...</td>\n",
       "      <td>...</td>\n",
       "      <td>...</td>\n",
       "      <td>...</td>\n",
       "      <td>...</td>\n",
       "      <td>...</td>\n",
       "      <td>...</td>\n",
       "      <td>...</td>\n",
       "      <td>...</td>\n",
       "      <td>...</td>\n",
       "      <td>...</td>\n",
       "      <td>...</td>\n",
       "      <td>...</td>\n",
       "      <td>...</td>\n",
       "      <td>...</td>\n",
       "      <td>...</td>\n",
       "      <td>...</td>\n",
       "      <td>...</td>\n",
       "      <td>...</td>\n",
       "      <td>...</td>\n",
       "    </tr>\n",
       "    <tr>\n",
       "      <th>28457</th>\n",
       "      <td>-0.546378</td>\n",
       "      <td>1.433992</td>\n",
       "      <td>-0.313252</td>\n",
       "      <td>0.926044</td>\n",
       "      <td>0.522388</td>\n",
       "      <td>-0.565669</td>\n",
       "      <td>1.066075</td>\n",
       "      <td>0.269799</td>\n",
       "      <td>-1.099446</td>\n",
       "      <td>-0.077753</td>\n",
       "      <td>...</td>\n",
       "      <td>-0.175451</td>\n",
       "      <td>0.030397</td>\n",
       "      <td>0.018381</td>\n",
       "      <td>-0.395994</td>\n",
       "      <td>0.301655</td>\n",
       "      <td>0.173585</td>\n",
       "      <td>0.202753</td>\n",
       "      <td>1.034622</td>\n",
       "      <td>0.243429</td>\n",
       "      <td>1</td>\n",
       "    </tr>\n",
       "    <tr>\n",
       "      <th>28458</th>\n",
       "      <td>-0.764523</td>\n",
       "      <td>0.588379</td>\n",
       "      <td>-0.907599</td>\n",
       "      <td>-0.418847</td>\n",
       "      <td>0.901528</td>\n",
       "      <td>-0.760802</td>\n",
       "      <td>0.758545</td>\n",
       "      <td>0.414698</td>\n",
       "      <td>-0.730854</td>\n",
       "      <td>-1.245088</td>\n",
       "      <td>...</td>\n",
       "      <td>0.141759</td>\n",
       "      <td>0.587119</td>\n",
       "      <td>-0.200998</td>\n",
       "      <td>0.267337</td>\n",
       "      <td>-0.152951</td>\n",
       "      <td>-0.065285</td>\n",
       "      <td>0.810452</td>\n",
       "      <td>1.034693</td>\n",
       "      <td>0.247480</td>\n",
       "      <td>1</td>\n",
       "    </tr>\n",
       "    <tr>\n",
       "      <th>28459</th>\n",
       "      <td>-0.446951</td>\n",
       "      <td>1.302212</td>\n",
       "      <td>-0.168583</td>\n",
       "      <td>0.981577</td>\n",
       "      <td>0.578957</td>\n",
       "      <td>-0.605641</td>\n",
       "      <td>1.253430</td>\n",
       "      <td>-1.042610</td>\n",
       "      <td>-0.417116</td>\n",
       "      <td>0.076605</td>\n",
       "      <td>...</td>\n",
       "      <td>-0.148093</td>\n",
       "      <td>-0.038712</td>\n",
       "      <td>0.010209</td>\n",
       "      <td>-0.362666</td>\n",
       "      <td>0.503092</td>\n",
       "      <td>0.229921</td>\n",
       "      <td>0.537972</td>\n",
       "      <td>1.034763</td>\n",
       "      <td>0.237981</td>\n",
       "      <td>1</td>\n",
       "    </tr>\n",
       "    <tr>\n",
       "      <th>28460</th>\n",
       "      <td>2.039560</td>\n",
       "      <td>-0.175233</td>\n",
       "      <td>-1.196825</td>\n",
       "      <td>0.234580</td>\n",
       "      <td>-0.008713</td>\n",
       "      <td>-0.726571</td>\n",
       "      <td>0.017050</td>\n",
       "      <td>-0.118228</td>\n",
       "      <td>0.435402</td>\n",
       "      <td>0.267772</td>\n",
       "      <td>...</td>\n",
       "      <td>0.297930</td>\n",
       "      <td>-0.359769</td>\n",
       "      <td>-0.315610</td>\n",
       "      <td>0.201114</td>\n",
       "      <td>-0.080826</td>\n",
       "      <td>-0.075071</td>\n",
       "      <td>-0.269964</td>\n",
       "      <td>1.034928</td>\n",
       "      <td>0.248362</td>\n",
       "      <td>1</td>\n",
       "    </tr>\n",
       "    <tr>\n",
       "      <th>28461</th>\n",
       "      <td>-0.240440</td>\n",
       "      <td>0.530483</td>\n",
       "      <td>0.702510</td>\n",
       "      <td>0.689799</td>\n",
       "      <td>-0.377961</td>\n",
       "      <td>0.623708</td>\n",
       "      <td>-0.686180</td>\n",
       "      <td>0.679145</td>\n",
       "      <td>0.392087</td>\n",
       "      <td>-0.399126</td>\n",
       "      <td>...</td>\n",
       "      <td>-0.163298</td>\n",
       "      <td>0.123205</td>\n",
       "      <td>-0.569159</td>\n",
       "      <td>0.546668</td>\n",
       "      <td>0.108821</td>\n",
       "      <td>0.104533</td>\n",
       "      <td>-0.167680</td>\n",
       "      <td>1.034975</td>\n",
       "      <td>0.219190</td>\n",
       "      <td>1</td>\n",
       "    </tr>\n",
       "  </tbody>\n",
       "</table>\n",
       "<p>28462 rows × 32 columns</p>\n",
       "</div>"
      ],
      "text/plain": [
       "             V1        V2        V3        V4        V5        V6        V7  \\\n",
       "0     -0.338262  1.119593  1.044367 -0.222187  0.499361 -0.246761  0.651583   \n",
       "1      0.962496  0.328461 -0.171479  2.109204  1.129566  1.696038  0.107712   \n",
       "2      1.145524  0.575068  0.194008  2.598192 -0.092210 -1.044430  0.531588   \n",
       "3      0.927060 -0.323684  0.387585  0.544474  0.246787  1.650358 -0.427576   \n",
       "4     -3.005237  2.600138  1.483691 -2.418473  0.306326 -0.824575  2.065426   \n",
       "...         ...       ...       ...       ...       ...       ...       ...   \n",
       "28457 -0.546378  1.433992 -0.313252  0.926044  0.522388 -0.565669  1.066075   \n",
       "28458 -0.764523  0.588379 -0.907599 -0.418847  0.901528 -0.760802  0.758545   \n",
       "28459 -0.446951  1.302212 -0.168583  0.981577  0.578957 -0.605641  1.253430   \n",
       "28460  2.039560 -0.175233 -1.196825  0.234580 -0.008713 -0.726571  0.017050   \n",
       "28461 -0.240440  0.530483  0.702510  0.689799 -0.377961  0.623708 -0.686180   \n",
       "\n",
       "             V8        V9       V10  ...       V23       V24       V25  \\\n",
       "0      0.069539 -0.736727 -0.366846  ... -0.120794 -0.385050 -0.069733   \n",
       "1      0.521502 -1.191311  0.724396  ... -0.048508 -1.371866  0.390814   \n",
       "2     -0.241888 -0.896287  0.757952  ... -0.076510  0.691320  0.633984   \n",
       "3      0.615371  0.226278 -0.225495  ...  0.096632 -0.992569  0.085096   \n",
       "4     -1.829347  4.009259  6.051521  ... -0.163747  0.515821  0.136318   \n",
       "...         ...       ...       ...  ...       ...       ...       ...   \n",
       "28457  0.269799 -1.099446 -0.077753  ... -0.175451  0.030397  0.018381   \n",
       "28458  0.414698 -0.730854 -1.245088  ...  0.141759  0.587119 -0.200998   \n",
       "28459 -1.042610 -0.417116  0.076605  ... -0.148093 -0.038712  0.010209   \n",
       "28460 -0.118228  0.435402  0.267772  ...  0.297930 -0.359769 -0.315610   \n",
       "28461  0.679145  0.392087 -0.399126  ... -0.163298  0.123205 -0.569159   \n",
       "\n",
       "            V26       V27       V28       V29       V30    scores  anomaly  \n",
       "0      0.094199  0.246219  0.083076 -0.255991 -0.994878  0.241016        1  \n",
       "1      0.199964  0.016371 -0.014605  0.168937 -0.994784  0.219359        1  \n",
       "2      0.048741 -0.053192  0.016251  0.169496 -0.994502  0.234993        1  \n",
       "3      0.377447  0.036096 -0.005960  0.331307 -0.994467  0.226669        1  \n",
       "4      0.460054 -0.251259 -1.105751 -0.287012 -0.994373  0.170190        1  \n",
       "...         ...       ...       ...       ...       ...       ...      ...  \n",
       "28457 -0.395994  0.301655  0.173585  0.202753  1.034622  0.243429        1  \n",
       "28458  0.267337 -0.152951 -0.065285  0.810452  1.034693  0.247480        1  \n",
       "28459 -0.362666  0.503092  0.229921  0.537972  1.034763  0.237981        1  \n",
       "28460  0.201114 -0.080826 -0.075071 -0.269964  1.034928  0.248362        1  \n",
       "28461  0.546668  0.108821  0.104533 -0.167680  1.034975  0.219190        1  \n",
       "\n",
       "[28462 rows x 32 columns]"
      ]
     },
     "execution_count": 29,
     "metadata": {},
     "output_type": "execute_result"
    }
   ],
   "source": [
    "IF_X_val"
   ]
  },
  {
   "cell_type": "code",
   "execution_count": 31,
   "metadata": {},
   "outputs": [
    {
     "name": "stdout",
     "output_type": "stream",
     "text": [
      "0    28432\n",
      "1       30\n",
      "Name: Class, dtype: int64\n",
      " 1    28433\n",
      "-1       29\n",
      "Name: anomaly, dtype: int64\n"
     ]
    }
   ],
   "source": [
    "print(IF_y_val.value_counts())\n",
    "print(IF_X_val['anomaly'].value_counts())"
   ]
  },
  {
   "cell_type": "code",
   "execution_count": 33,
   "metadata": {},
   "outputs": [],
   "source": [
    "IF_X_val['anomaly'] = get_pred_label(IF_X_val['anomaly'])"
   ]
  },
  {
   "cell_type": "markdown",
   "metadata": {},
   "source": [
    "모델 성능 확인 - classification_report"
   ]
  },
  {
   "cell_type": "code",
   "execution_count": 34,
   "metadata": {},
   "outputs": [
    {
     "name": "stdout",
     "output_type": "stream",
     "text": [
      "              precision    recall  f1-score   support\n",
      "\n",
      "           0       1.00      1.00      1.00     28432\n",
      "           1       0.41      0.40      0.41        30\n",
      "\n",
      "    accuracy                           1.00     28462\n",
      "   macro avg       0.71      0.70      0.70     28462\n",
      "weighted avg       1.00      1.00      1.00     28462\n",
      "\n"
     ]
    }
   ],
   "source": [
    "IF_val_pred = IF_X_val['anomaly']\n",
    "IF_report = classification_report(IF_y_val, IF_val_pred)\n",
    "print(IF_report)"
   ]
  },
  {
   "cell_type": "markdown",
   "metadata": {},
   "source": [
    "모델 성능 확인 - f1 score"
   ]
  },
  {
   "cell_type": "code",
   "execution_count": 35,
   "metadata": {},
   "outputs": [
    {
     "name": "stdout",
     "output_type": "stream",
     "text": [
      "Validation F1 Score : [0.7030820840915222]\n"
     ]
    }
   ],
   "source": [
    "IF_f1_score = f1_score(IF_y_val, IF_val_pred, average = \"macro\")\n",
    "print(f'Validation F1 Score : [{IF_f1_score}]')"
   ]
  },
  {
   "cell_type": "markdown",
   "metadata": {},
   "source": [
    "## 4) 최종 모델"
   ]
  },
  {
   "cell_type": "code",
   "execution_count": null,
   "metadata": {},
   "outputs": [],
   "source": []
  }
 ],
 "metadata": {
  "kernelspec": {
   "display_name": "base",
   "language": "python",
   "name": "python3"
  },
  "language_info": {
   "codemirror_mode": {
    "name": "ipython",
    "version": 3
   },
   "file_extension": ".py",
   "mimetype": "text/x-python",
   "name": "python",
   "nbconvert_exporter": "python",
   "pygments_lexer": "ipython3",
   "version": "3.10.9"
  },
  "orig_nbformat": 4
 },
 "nbformat": 4,
 "nbformat_minor": 2
}
