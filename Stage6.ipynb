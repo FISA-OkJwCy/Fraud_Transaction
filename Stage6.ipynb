{
  "cells": [
    {
      "cell_type": "markdown",
      "metadata": {
        "id": "OZCNF3RvI-RR"
      },
      "source": [
        "# Stage6\n",
        "\n",
        "제조업이나 신용 데이터에서는 라벨이 있는 데이터를 얻기가 어렵습니다. \n",
        "대부분 대규모이며, 라벨링 작업을 위해서는 수많은 데이터를 사람이 일일이 분류해야 합니다. 이는 매우 번거로운 작업이므로, 많은 경우 데이터가 라벨링되어 있지 않습니다. 또한, 신용 데이터에서 이상 거래를 판단하기 위해서는 일정한 금액 이상의 거래인지, 사용자의 이전 거래 패턴과 일치하지 않는지 등 여러 가지 기준을 고려해야 합니다. 이러한 기준을 일관되게 정의하기 어렵기 때문에, 라벨링에 대한 의견 차이가 발생할 수 있습니다.\n",
        "\n",
        "그래서 이번 프로젝트처럼 train data에서 라벨이 없는 상태에서도 비지도 기반 이상치 탐지기법 Isolation Forest 모형으로 train data의 y label이 없는 상태에서도 이상치를 잘 탐지할 수 있었습니다. \n",
        "\n",
        "Isolation Forest 모형은 학습 데이터에 의존하지 않기에 특정 분포를 따르는 데이터셋에서도 잘 동작할 수 있습니다. 이러한 특징은 데이터셋에 대한 사전 정보가 없는 상황에서도 Isolation Forest 모형이 이상치를 탐지하는 데 도움을 줍니다."
      ]
    },
    {
      "cell_type": "markdown",
      "metadata": {
        "id": "B3qosRFVI-RR"
      },
      "source": [
        "# Submit"
      ]
    },
    {
      "cell_type": "code",
      "execution_count": null,
      "metadata": {
        "id": "xq17mJyfI-RR",
        "outputId": "ceb0fbc7-08c2-488d-edd2-32a469990c64"
      },
      "outputs": [
        {
          "name": "stderr",
          "output_type": "stream",
          "text": [
            "/home/iai/anaconda3/envs/hjb/lib/python3.9/site-packages/sklearn/base.py:409: UserWarning: X does not have valid feature names, but IsolationForest was fitted with feature names\n",
            "  warnings.warn(\n"
          ]
        }
      ],
      "source": [
        "preds=model.predict(test_df.to_numpy())\n",
        "submit=pd.read_csv('/home/iai/heo/credit/sample_submission.csv')\n",
        "submit['Class']=preds \n",
        "submit.to_csv('submit_2.csv',index=False)"
      ]
    },
    {
      "cell_type": "markdown",
      "source": [
        "# END\n",
        "\n",
        "신용카드 사용 패턴을 분석하여 인사이트를 도출하는 경우에는 여러 가지 인사이트가 있을 수 있습니다. \n",
        "\n",
        "예를 들어, 사용자가 일정 금액 이상을 사용하는 경우, 사용자의 거주 지역과 사용 패턴이 일치하지 않는 경우, 해외 거래가 갑작스럽게 증가하는 경우 등이 있습니다. \n",
        "\n",
        "이러한 인사이트는 다음과 같은 혜택을 제공할 수 있습니다.\n",
        "\n",
        "*   보안 강화: 이상적인 거래 패턴을 파악하여, 도난 카드나 부정 사용으로부터 보호할 수 있습니다.\n",
        "*   고객 이탈 방지: 이용 패턴 분석을 통해, 고객이 이탈하기 전에 불만족 요인을 사전에 파악하고 대응할 수 있습니다.\n",
        "*   제품 개발: 이용 패턴 정보를 활용하여, 고객이 원하는 제품을 개발할 수 있습니다.\n",
        "*   마케팅 전략 개발: 이용 패턴 정보를 활용하여, 타겟 마케팅 전략을 개발하거나, 특정 기간에 할인 이벤트를 진행하는 등의 전략을 수립할 수 있습니다.\n",
        "\n",
        "이러한 인사이트를 바탕으로, 기업은 고객 경험을 개선하고, 비즈니스 성과를 높일 수 있습니다."
      ],
      "metadata": {
        "id": "reIJcuEbK1rh"
      }
    }
  ],
  "metadata": {
    "colab": {
      "provenance": []
    },
    "kernelspec": {
      "display_name": "hjb",
      "language": "python",
      "name": "python3"
    },
    "language_info": {
      "codemirror_mode": {
        "name": "ipython",
        "version": 3
      },
      "file_extension": ".py",
      "mimetype": "text/x-python",
      "name": "python",
      "nbconvert_exporter": "python",
      "pygments_lexer": "ipython3",
      "version": "3.9.15"
    },
    "vscode": {
      "interpreter": {
        "hash": "41a7938f107bf62cd1d4eafb979db188ac806eba80fd94d34c66f74ccc6e7351"
      }
    }
  },
  "nbformat": 4,
  "nbformat_minor": 0
}