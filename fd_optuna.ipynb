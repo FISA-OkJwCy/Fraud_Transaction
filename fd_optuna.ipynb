{
 "cells": [
  {
   "cell_type": "code",
   "execution_count": 20,
   "metadata": {},
   "outputs": [],
   "source": [
    "import pandas as pd\n",
    "import numpy as np\n",
    "\n",
    "from sklearn.ensemble import IsolationForest\n",
    "from sklearn.metrics import make_scorer, f1_score\n",
    "from sklearn.metrics import classification_report\n",
    "from sklearn import model_selection\n",
    "\n",
    "import warnings\n",
    "warnings.filterwarnings(action='ignore')"
   ]
  },
  {
   "cell_type": "markdown",
   "metadata": {},
   "source": [
    "## 데이터 불러오기 \n",
    "- 신용카드 사기 거래 탐지 (월간 데이콘 AI 경진대회)"
   ]
  },
  {
   "cell_type": "code",
   "execution_count": 21,
   "metadata": {},
   "outputs": [],
   "source": [
    "train_df = pd.read_csv('data/train.csv') # Train : 113842 rows × 31 columns\n",
    "val_df = pd.read_csv('data/val.csv') # Validation : 28462 rows × 32 columns"
   ]
  },
  {
   "cell_type": "markdown",
   "metadata": {},
   "source": [
    "#### 학습 데이터(ID, V1~V30) - Class 없음"
   ]
  },
  {
   "cell_type": "code",
   "execution_count": 22,
   "metadata": {},
   "outputs": [
    {
     "data": {
      "text/html": [
       "<div>\n",
       "<style scoped>\n",
       "    .dataframe tbody tr th:only-of-type {\n",
       "        vertical-align: middle;\n",
       "    }\n",
       "\n",
       "    .dataframe tbody tr th {\n",
       "        vertical-align: top;\n",
       "    }\n",
       "\n",
       "    .dataframe thead th {\n",
       "        text-align: right;\n",
       "    }\n",
       "</style>\n",
       "<table border=\"1\" class=\"dataframe\">\n",
       "  <thead>\n",
       "    <tr style=\"text-align: right;\">\n",
       "      <th></th>\n",
       "      <th>ID</th>\n",
       "      <th>V1</th>\n",
       "      <th>V2</th>\n",
       "      <th>V3</th>\n",
       "      <th>V4</th>\n",
       "      <th>V5</th>\n",
       "      <th>V6</th>\n",
       "      <th>V7</th>\n",
       "      <th>V8</th>\n",
       "      <th>V9</th>\n",
       "      <th>...</th>\n",
       "      <th>V21</th>\n",
       "      <th>V22</th>\n",
       "      <th>V23</th>\n",
       "      <th>V24</th>\n",
       "      <th>V25</th>\n",
       "      <th>V26</th>\n",
       "      <th>V27</th>\n",
       "      <th>V28</th>\n",
       "      <th>V29</th>\n",
       "      <th>V30</th>\n",
       "    </tr>\n",
       "  </thead>\n",
       "  <tbody>\n",
       "    <tr>\n",
       "      <th>0</th>\n",
       "      <td>3</td>\n",
       "      <td>-1.358354</td>\n",
       "      <td>-1.340163</td>\n",
       "      <td>1.773209</td>\n",
       "      <td>0.379780</td>\n",
       "      <td>-0.503198</td>\n",
       "      <td>1.800499</td>\n",
       "      <td>0.791461</td>\n",
       "      <td>0.247676</td>\n",
       "      <td>-1.514654</td>\n",
       "      <td>...</td>\n",
       "      <td>0.247998</td>\n",
       "      <td>0.771679</td>\n",
       "      <td>0.909412</td>\n",
       "      <td>-0.689281</td>\n",
       "      <td>-0.327642</td>\n",
       "      <td>-0.139097</td>\n",
       "      <td>-0.055353</td>\n",
       "      <td>-0.059752</td>\n",
       "      <td>4.983721</td>\n",
       "      <td>-0.994972</td>\n",
       "    </tr>\n",
       "    <tr>\n",
       "      <th>1</th>\n",
       "      <td>4</td>\n",
       "      <td>-0.966272</td>\n",
       "      <td>-0.185226</td>\n",
       "      <td>1.792993</td>\n",
       "      <td>-0.863291</td>\n",
       "      <td>-0.010309</td>\n",
       "      <td>1.247203</td>\n",
       "      <td>0.237609</td>\n",
       "      <td>0.377436</td>\n",
       "      <td>-1.387024</td>\n",
       "      <td>...</td>\n",
       "      <td>-0.108300</td>\n",
       "      <td>0.005274</td>\n",
       "      <td>-0.190321</td>\n",
       "      <td>-1.175575</td>\n",
       "      <td>0.647376</td>\n",
       "      <td>-0.221929</td>\n",
       "      <td>0.062723</td>\n",
       "      <td>0.061458</td>\n",
       "      <td>1.418291</td>\n",
       "      <td>-0.994972</td>\n",
       "    </tr>\n",
       "    <tr>\n",
       "      <th>2</th>\n",
       "      <td>6</td>\n",
       "      <td>-0.425966</td>\n",
       "      <td>0.960523</td>\n",
       "      <td>1.141109</td>\n",
       "      <td>-0.168252</td>\n",
       "      <td>0.420987</td>\n",
       "      <td>-0.029728</td>\n",
       "      <td>0.476201</td>\n",
       "      <td>0.260314</td>\n",
       "      <td>-0.568671</td>\n",
       "      <td>...</td>\n",
       "      <td>-0.208254</td>\n",
       "      <td>-0.559825</td>\n",
       "      <td>-0.026398</td>\n",
       "      <td>-0.371427</td>\n",
       "      <td>-0.232794</td>\n",
       "      <td>0.105915</td>\n",
       "      <td>0.253844</td>\n",
       "      <td>0.081080</td>\n",
       "      <td>-0.256131</td>\n",
       "      <td>-0.994960</td>\n",
       "    </tr>\n",
       "    <tr>\n",
       "      <th>3</th>\n",
       "      <td>8</td>\n",
       "      <td>-0.644269</td>\n",
       "      <td>1.417964</td>\n",
       "      <td>1.074380</td>\n",
       "      <td>-0.492199</td>\n",
       "      <td>0.948934</td>\n",
       "      <td>0.428118</td>\n",
       "      <td>1.120631</td>\n",
       "      <td>-3.807864</td>\n",
       "      <td>0.615375</td>\n",
       "      <td>...</td>\n",
       "      <td>1.943465</td>\n",
       "      <td>-1.015455</td>\n",
       "      <td>0.057504</td>\n",
       "      <td>-0.649709</td>\n",
       "      <td>-0.415267</td>\n",
       "      <td>-0.051634</td>\n",
       "      <td>-1.206921</td>\n",
       "      <td>-1.085339</td>\n",
       "      <td>0.262698</td>\n",
       "      <td>-0.994901</td>\n",
       "    </tr>\n",
       "    <tr>\n",
       "      <th>4</th>\n",
       "      <td>9</td>\n",
       "      <td>-0.894286</td>\n",
       "      <td>0.286157</td>\n",
       "      <td>-0.113192</td>\n",
       "      <td>-0.271526</td>\n",
       "      <td>2.669599</td>\n",
       "      <td>3.721818</td>\n",
       "      <td>0.370145</td>\n",
       "      <td>0.851084</td>\n",
       "      <td>-0.392048</td>\n",
       "      <td>...</td>\n",
       "      <td>-0.073425</td>\n",
       "      <td>-0.268092</td>\n",
       "      <td>-0.204233</td>\n",
       "      <td>1.011592</td>\n",
       "      <td>0.373205</td>\n",
       "      <td>-0.384157</td>\n",
       "      <td>0.011747</td>\n",
       "      <td>0.142404</td>\n",
       "      <td>0.994900</td>\n",
       "      <td>-0.994901</td>\n",
       "    </tr>\n",
       "    <tr>\n",
       "      <th>...</th>\n",
       "      <td>...</td>\n",
       "      <td>...</td>\n",
       "      <td>...</td>\n",
       "      <td>...</td>\n",
       "      <td>...</td>\n",
       "      <td>...</td>\n",
       "      <td>...</td>\n",
       "      <td>...</td>\n",
       "      <td>...</td>\n",
       "      <td>...</td>\n",
       "      <td>...</td>\n",
       "      <td>...</td>\n",
       "      <td>...</td>\n",
       "      <td>...</td>\n",
       "      <td>...</td>\n",
       "      <td>...</td>\n",
       "      <td>...</td>\n",
       "      <td>...</td>\n",
       "      <td>...</td>\n",
       "      <td>...</td>\n",
       "      <td>...</td>\n",
       "    </tr>\n",
       "    <tr>\n",
       "      <th>113837</th>\n",
       "      <td>284796</td>\n",
       "      <td>-12.516732</td>\n",
       "      <td>10.187818</td>\n",
       "      <td>-8.476671</td>\n",
       "      <td>-2.510473</td>\n",
       "      <td>-4.586669</td>\n",
       "      <td>-1.394465</td>\n",
       "      <td>-3.632516</td>\n",
       "      <td>5.498583</td>\n",
       "      <td>4.893089</td>\n",
       "      <td>...</td>\n",
       "      <td>-0.944759</td>\n",
       "      <td>-1.565026</td>\n",
       "      <td>0.890675</td>\n",
       "      <td>-1.253276</td>\n",
       "      <td>1.786717</td>\n",
       "      <td>0.320763</td>\n",
       "      <td>2.090712</td>\n",
       "      <td>1.232864</td>\n",
       "      <td>-0.169496</td>\n",
       "      <td>1.034857</td>\n",
       "    </tr>\n",
       "    <tr>\n",
       "      <th>113838</th>\n",
       "      <td>284797</td>\n",
       "      <td>1.884849</td>\n",
       "      <td>-0.143540</td>\n",
       "      <td>-0.999943</td>\n",
       "      <td>1.506772</td>\n",
       "      <td>-0.035300</td>\n",
       "      <td>-0.613638</td>\n",
       "      <td>0.190241</td>\n",
       "      <td>-0.249058</td>\n",
       "      <td>0.666458</td>\n",
       "      <td>...</td>\n",
       "      <td>0.144008</td>\n",
       "      <td>0.634646</td>\n",
       "      <td>-0.042114</td>\n",
       "      <td>-0.053206</td>\n",
       "      <td>0.316403</td>\n",
       "      <td>-0.461441</td>\n",
       "      <td>0.018265</td>\n",
       "      <td>-0.041068</td>\n",
       "      <td>0.530986</td>\n",
       "      <td>1.034881</td>\n",
       "    </tr>\n",
       "    <tr>\n",
       "      <th>113839</th>\n",
       "      <td>284798</td>\n",
       "      <td>-0.241923</td>\n",
       "      <td>0.712247</td>\n",
       "      <td>0.399806</td>\n",
       "      <td>-0.463406</td>\n",
       "      <td>0.244531</td>\n",
       "      <td>-1.343668</td>\n",
       "      <td>0.929369</td>\n",
       "      <td>-0.206210</td>\n",
       "      <td>0.106234</td>\n",
       "      <td>...</td>\n",
       "      <td>-0.228876</td>\n",
       "      <td>-0.514376</td>\n",
       "      <td>0.279598</td>\n",
       "      <td>0.371441</td>\n",
       "      <td>-0.559238</td>\n",
       "      <td>0.113144</td>\n",
       "      <td>0.131507</td>\n",
       "      <td>0.081265</td>\n",
       "      <td>-0.230699</td>\n",
       "      <td>1.034904</td>\n",
       "    </tr>\n",
       "    <tr>\n",
       "      <th>113840</th>\n",
       "      <td>284802</td>\n",
       "      <td>0.120316</td>\n",
       "      <td>0.931005</td>\n",
       "      <td>-0.546012</td>\n",
       "      <td>-0.745097</td>\n",
       "      <td>1.130314</td>\n",
       "      <td>-0.235973</td>\n",
       "      <td>0.812722</td>\n",
       "      <td>0.115093</td>\n",
       "      <td>-0.204064</td>\n",
       "      <td>...</td>\n",
       "      <td>-0.314205</td>\n",
       "      <td>-0.808520</td>\n",
       "      <td>0.050343</td>\n",
       "      <td>0.102800</td>\n",
       "      <td>-0.435870</td>\n",
       "      <td>0.124079</td>\n",
       "      <td>0.217940</td>\n",
       "      <td>0.068803</td>\n",
       "      <td>-0.269825</td>\n",
       "      <td>1.034939</td>\n",
       "    </tr>\n",
       "    <tr>\n",
       "      <th>113841</th>\n",
       "      <td>284803</td>\n",
       "      <td>-11.881118</td>\n",
       "      <td>10.071785</td>\n",
       "      <td>-9.834783</td>\n",
       "      <td>-2.066656</td>\n",
       "      <td>-5.364473</td>\n",
       "      <td>-2.606837</td>\n",
       "      <td>-4.918215</td>\n",
       "      <td>7.305334</td>\n",
       "      <td>1.914428</td>\n",
       "      <td>...</td>\n",
       "      <td>0.213454</td>\n",
       "      <td>0.111864</td>\n",
       "      <td>1.014480</td>\n",
       "      <td>-0.509348</td>\n",
       "      <td>1.436807</td>\n",
       "      <td>0.250034</td>\n",
       "      <td>0.943651</td>\n",
       "      <td>0.823731</td>\n",
       "      <td>-0.296653</td>\n",
       "      <td>1.034951</td>\n",
       "    </tr>\n",
       "  </tbody>\n",
       "</table>\n",
       "<p>113842 rows × 31 columns</p>\n",
       "</div>"
      ],
      "text/plain": [
       "            ID         V1         V2        V3        V4        V5        V6  \\\n",
       "0            3  -1.358354  -1.340163  1.773209  0.379780 -0.503198  1.800499   \n",
       "1            4  -0.966272  -0.185226  1.792993 -0.863291 -0.010309  1.247203   \n",
       "2            6  -0.425966   0.960523  1.141109 -0.168252  0.420987 -0.029728   \n",
       "3            8  -0.644269   1.417964  1.074380 -0.492199  0.948934  0.428118   \n",
       "4            9  -0.894286   0.286157 -0.113192 -0.271526  2.669599  3.721818   \n",
       "...        ...        ...        ...       ...       ...       ...       ...   \n",
       "113837  284796 -12.516732  10.187818 -8.476671 -2.510473 -4.586669 -1.394465   \n",
       "113838  284797   1.884849  -0.143540 -0.999943  1.506772 -0.035300 -0.613638   \n",
       "113839  284798  -0.241923   0.712247  0.399806 -0.463406  0.244531 -1.343668   \n",
       "113840  284802   0.120316   0.931005 -0.546012 -0.745097  1.130314 -0.235973   \n",
       "113841  284803 -11.881118  10.071785 -9.834783 -2.066656 -5.364473 -2.606837   \n",
       "\n",
       "              V7        V8        V9  ...       V21       V22       V23  \\\n",
       "0       0.791461  0.247676 -1.514654  ...  0.247998  0.771679  0.909412   \n",
       "1       0.237609  0.377436 -1.387024  ... -0.108300  0.005274 -0.190321   \n",
       "2       0.476201  0.260314 -0.568671  ... -0.208254 -0.559825 -0.026398   \n",
       "3       1.120631 -3.807864  0.615375  ...  1.943465 -1.015455  0.057504   \n",
       "4       0.370145  0.851084 -0.392048  ... -0.073425 -0.268092 -0.204233   \n",
       "...          ...       ...       ...  ...       ...       ...       ...   \n",
       "113837 -3.632516  5.498583  4.893089  ... -0.944759 -1.565026  0.890675   \n",
       "113838  0.190241 -0.249058  0.666458  ...  0.144008  0.634646 -0.042114   \n",
       "113839  0.929369 -0.206210  0.106234  ... -0.228876 -0.514376  0.279598   \n",
       "113840  0.812722  0.115093 -0.204064  ... -0.314205 -0.808520  0.050343   \n",
       "113841 -4.918215  7.305334  1.914428  ...  0.213454  0.111864  1.014480   \n",
       "\n",
       "             V24       V25       V26       V27       V28       V29       V30  \n",
       "0      -0.689281 -0.327642 -0.139097 -0.055353 -0.059752  4.983721 -0.994972  \n",
       "1      -1.175575  0.647376 -0.221929  0.062723  0.061458  1.418291 -0.994972  \n",
       "2      -0.371427 -0.232794  0.105915  0.253844  0.081080 -0.256131 -0.994960  \n",
       "3      -0.649709 -0.415267 -0.051634 -1.206921 -1.085339  0.262698 -0.994901  \n",
       "4       1.011592  0.373205 -0.384157  0.011747  0.142404  0.994900 -0.994901  \n",
       "...          ...       ...       ...       ...       ...       ...       ...  \n",
       "113837 -1.253276  1.786717  0.320763  2.090712  1.232864 -0.169496  1.034857  \n",
       "113838 -0.053206  0.316403 -0.461441  0.018265 -0.041068  0.530986  1.034881  \n",
       "113839  0.371441 -0.559238  0.113144  0.131507  0.081265 -0.230699  1.034904  \n",
       "113840  0.102800 -0.435870  0.124079  0.217940  0.068803 -0.269825  1.034939  \n",
       "113841 -0.509348  1.436807  0.250034  0.943651  0.823731 -0.296653  1.034951  \n",
       "\n",
       "[113842 rows x 31 columns]"
      ]
     },
     "execution_count": 22,
     "metadata": {},
     "output_type": "execute_result"
    }
   ],
   "source": [
    "train_df"
   ]
  },
  {
   "cell_type": "markdown",
   "metadata": {},
   "source": [
    "#### 검증 데이터(ID, V1~V30, Class)"
   ]
  },
  {
   "cell_type": "code",
   "execution_count": 23,
   "metadata": {},
   "outputs": [
    {
     "data": {
      "text/html": [
       "<div>\n",
       "<style scoped>\n",
       "    .dataframe tbody tr th:only-of-type {\n",
       "        vertical-align: middle;\n",
       "    }\n",
       "\n",
       "    .dataframe tbody tr th {\n",
       "        vertical-align: top;\n",
       "    }\n",
       "\n",
       "    .dataframe thead th {\n",
       "        text-align: right;\n",
       "    }\n",
       "</style>\n",
       "<table border=\"1\" class=\"dataframe\">\n",
       "  <thead>\n",
       "    <tr style=\"text-align: right;\">\n",
       "      <th></th>\n",
       "      <th>ID</th>\n",
       "      <th>V1</th>\n",
       "      <th>V2</th>\n",
       "      <th>V3</th>\n",
       "      <th>V4</th>\n",
       "      <th>V5</th>\n",
       "      <th>V6</th>\n",
       "      <th>V7</th>\n",
       "      <th>V8</th>\n",
       "      <th>V9</th>\n",
       "      <th>...</th>\n",
       "      <th>V22</th>\n",
       "      <th>V23</th>\n",
       "      <th>V24</th>\n",
       "      <th>V25</th>\n",
       "      <th>V26</th>\n",
       "      <th>V27</th>\n",
       "      <th>V28</th>\n",
       "      <th>V29</th>\n",
       "      <th>V30</th>\n",
       "      <th>Class</th>\n",
       "    </tr>\n",
       "  </thead>\n",
       "  <tbody>\n",
       "    <tr>\n",
       "      <th>0</th>\n",
       "      <td>10</td>\n",
       "      <td>-0.338262</td>\n",
       "      <td>1.119593</td>\n",
       "      <td>1.044367</td>\n",
       "      <td>-0.222187</td>\n",
       "      <td>0.499361</td>\n",
       "      <td>-0.246761</td>\n",
       "      <td>0.651583</td>\n",
       "      <td>0.069539</td>\n",
       "      <td>-0.736727</td>\n",
       "      <td>...</td>\n",
       "      <td>-0.633753</td>\n",
       "      <td>-0.120794</td>\n",
       "      <td>-0.385050</td>\n",
       "      <td>-0.069733</td>\n",
       "      <td>0.094199</td>\n",
       "      <td>0.246219</td>\n",
       "      <td>0.083076</td>\n",
       "      <td>-0.255991</td>\n",
       "      <td>-0.994878</td>\n",
       "      <td>0</td>\n",
       "    </tr>\n",
       "    <tr>\n",
       "      <th>1</th>\n",
       "      <td>22</td>\n",
       "      <td>0.962496</td>\n",
       "      <td>0.328461</td>\n",
       "      <td>-0.171479</td>\n",
       "      <td>2.109204</td>\n",
       "      <td>1.129566</td>\n",
       "      <td>1.696038</td>\n",
       "      <td>0.107712</td>\n",
       "      <td>0.521502</td>\n",
       "      <td>-1.191311</td>\n",
       "      <td>...</td>\n",
       "      <td>0.402492</td>\n",
       "      <td>-0.048508</td>\n",
       "      <td>-1.371866</td>\n",
       "      <td>0.390814</td>\n",
       "      <td>0.199964</td>\n",
       "      <td>0.016371</td>\n",
       "      <td>-0.014605</td>\n",
       "      <td>0.168937</td>\n",
       "      <td>-0.994784</td>\n",
       "      <td>0</td>\n",
       "    </tr>\n",
       "    <tr>\n",
       "      <th>2</th>\n",
       "      <td>63</td>\n",
       "      <td>1.145524</td>\n",
       "      <td>0.575068</td>\n",
       "      <td>0.194008</td>\n",
       "      <td>2.598192</td>\n",
       "      <td>-0.092210</td>\n",
       "      <td>-1.044430</td>\n",
       "      <td>0.531588</td>\n",
       "      <td>-0.241888</td>\n",
       "      <td>-0.896287</td>\n",
       "      <td>...</td>\n",
       "      <td>-0.119703</td>\n",
       "      <td>-0.076510</td>\n",
       "      <td>0.691320</td>\n",
       "      <td>0.633984</td>\n",
       "      <td>0.048741</td>\n",
       "      <td>-0.053192</td>\n",
       "      <td>0.016251</td>\n",
       "      <td>0.169496</td>\n",
       "      <td>-0.994502</td>\n",
       "      <td>0</td>\n",
       "    </tr>\n",
       "    <tr>\n",
       "      <th>3</th>\n",
       "      <td>69</td>\n",
       "      <td>0.927060</td>\n",
       "      <td>-0.323684</td>\n",
       "      <td>0.387585</td>\n",
       "      <td>0.544474</td>\n",
       "      <td>0.246787</td>\n",
       "      <td>1.650358</td>\n",
       "      <td>-0.427576</td>\n",
       "      <td>0.615371</td>\n",
       "      <td>0.226278</td>\n",
       "      <td>...</td>\n",
       "      <td>0.079359</td>\n",
       "      <td>0.096632</td>\n",
       "      <td>-0.992569</td>\n",
       "      <td>0.085096</td>\n",
       "      <td>0.377447</td>\n",
       "      <td>0.036096</td>\n",
       "      <td>-0.005960</td>\n",
       "      <td>0.331307</td>\n",
       "      <td>-0.994467</td>\n",
       "      <td>0</td>\n",
       "    </tr>\n",
       "    <tr>\n",
       "      <th>4</th>\n",
       "      <td>83</td>\n",
       "      <td>-3.005237</td>\n",
       "      <td>2.600138</td>\n",
       "      <td>1.483691</td>\n",
       "      <td>-2.418473</td>\n",
       "      <td>0.306326</td>\n",
       "      <td>-0.824575</td>\n",
       "      <td>2.065426</td>\n",
       "      <td>-1.829347</td>\n",
       "      <td>4.009259</td>\n",
       "      <td>...</td>\n",
       "      <td>-0.181268</td>\n",
       "      <td>-0.163747</td>\n",
       "      <td>0.515821</td>\n",
       "      <td>0.136318</td>\n",
       "      <td>0.460054</td>\n",
       "      <td>-0.251259</td>\n",
       "      <td>-1.105751</td>\n",
       "      <td>-0.287012</td>\n",
       "      <td>-0.994373</td>\n",
       "      <td>0</td>\n",
       "    </tr>\n",
       "    <tr>\n",
       "      <th>...</th>\n",
       "      <td>...</td>\n",
       "      <td>...</td>\n",
       "      <td>...</td>\n",
       "      <td>...</td>\n",
       "      <td>...</td>\n",
       "      <td>...</td>\n",
       "      <td>...</td>\n",
       "      <td>...</td>\n",
       "      <td>...</td>\n",
       "      <td>...</td>\n",
       "      <td>...</td>\n",
       "      <td>...</td>\n",
       "      <td>...</td>\n",
       "      <td>...</td>\n",
       "      <td>...</td>\n",
       "      <td>...</td>\n",
       "      <td>...</td>\n",
       "      <td>...</td>\n",
       "      <td>...</td>\n",
       "      <td>...</td>\n",
       "      <td>...</td>\n",
       "    </tr>\n",
       "    <tr>\n",
       "      <th>28457</th>\n",
       "      <td>284769</td>\n",
       "      <td>-0.546378</td>\n",
       "      <td>1.433992</td>\n",
       "      <td>-0.313252</td>\n",
       "      <td>0.926044</td>\n",
       "      <td>0.522388</td>\n",
       "      <td>-0.565669</td>\n",
       "      <td>1.066075</td>\n",
       "      <td>0.269799</td>\n",
       "      <td>-1.099446</td>\n",
       "      <td>...</td>\n",
       "      <td>0.778817</td>\n",
       "      <td>-0.175451</td>\n",
       "      <td>0.030397</td>\n",
       "      <td>0.018381</td>\n",
       "      <td>-0.395994</td>\n",
       "      <td>0.301655</td>\n",
       "      <td>0.173585</td>\n",
       "      <td>0.202753</td>\n",
       "      <td>1.034622</td>\n",
       "      <td>0</td>\n",
       "    </tr>\n",
       "    <tr>\n",
       "      <th>28458</th>\n",
       "      <td>284779</td>\n",
       "      <td>-0.764523</td>\n",
       "      <td>0.588379</td>\n",
       "      <td>-0.907599</td>\n",
       "      <td>-0.418847</td>\n",
       "      <td>0.901528</td>\n",
       "      <td>-0.760802</td>\n",
       "      <td>0.758545</td>\n",
       "      <td>0.414698</td>\n",
       "      <td>-0.730854</td>\n",
       "      <td>...</td>\n",
       "      <td>-0.431876</td>\n",
       "      <td>0.141759</td>\n",
       "      <td>0.587119</td>\n",
       "      <td>-0.200998</td>\n",
       "      <td>0.267337</td>\n",
       "      <td>-0.152951</td>\n",
       "      <td>-0.065285</td>\n",
       "      <td>0.810452</td>\n",
       "      <td>1.034693</td>\n",
       "      <td>0</td>\n",
       "    </tr>\n",
       "    <tr>\n",
       "      <th>28459</th>\n",
       "      <td>284790</td>\n",
       "      <td>-0.446951</td>\n",
       "      <td>1.302212</td>\n",
       "      <td>-0.168583</td>\n",
       "      <td>0.981577</td>\n",
       "      <td>0.578957</td>\n",
       "      <td>-0.605641</td>\n",
       "      <td>1.253430</td>\n",
       "      <td>-1.042610</td>\n",
       "      <td>-0.417116</td>\n",
       "      <td>...</td>\n",
       "      <td>0.305268</td>\n",
       "      <td>-0.148093</td>\n",
       "      <td>-0.038712</td>\n",
       "      <td>0.010209</td>\n",
       "      <td>-0.362666</td>\n",
       "      <td>0.503092</td>\n",
       "      <td>0.229921</td>\n",
       "      <td>0.537972</td>\n",
       "      <td>1.034763</td>\n",
       "      <td>0</td>\n",
       "    </tr>\n",
       "    <tr>\n",
       "      <th>28460</th>\n",
       "      <td>284801</td>\n",
       "      <td>2.039560</td>\n",
       "      <td>-0.175233</td>\n",
       "      <td>-1.196825</td>\n",
       "      <td>0.234580</td>\n",
       "      <td>-0.008713</td>\n",
       "      <td>-0.726571</td>\n",
       "      <td>0.017050</td>\n",
       "      <td>-0.118228</td>\n",
       "      <td>0.435402</td>\n",
       "      <td>...</td>\n",
       "      <td>-0.717211</td>\n",
       "      <td>0.297930</td>\n",
       "      <td>-0.359769</td>\n",
       "      <td>-0.315610</td>\n",
       "      <td>0.201114</td>\n",
       "      <td>-0.080826</td>\n",
       "      <td>-0.075071</td>\n",
       "      <td>-0.269964</td>\n",
       "      <td>1.034928</td>\n",
       "      <td>0</td>\n",
       "    </tr>\n",
       "    <tr>\n",
       "      <th>28461</th>\n",
       "      <td>284806</td>\n",
       "      <td>-0.240440</td>\n",
       "      <td>0.530483</td>\n",
       "      <td>0.702510</td>\n",
       "      <td>0.689799</td>\n",
       "      <td>-0.377961</td>\n",
       "      <td>0.623708</td>\n",
       "      <td>-0.686180</td>\n",
       "      <td>0.679145</td>\n",
       "      <td>0.392087</td>\n",
       "      <td>...</td>\n",
       "      <td>0.800049</td>\n",
       "      <td>-0.163298</td>\n",
       "      <td>0.123205</td>\n",
       "      <td>-0.569159</td>\n",
       "      <td>0.546668</td>\n",
       "      <td>0.108821</td>\n",
       "      <td>0.104533</td>\n",
       "      <td>-0.167680</td>\n",
       "      <td>1.034975</td>\n",
       "      <td>0</td>\n",
       "    </tr>\n",
       "  </tbody>\n",
       "</table>\n",
       "<p>28462 rows × 32 columns</p>\n",
       "</div>"
      ],
      "text/plain": [
       "           ID        V1        V2        V3        V4        V5        V6  \\\n",
       "0          10 -0.338262  1.119593  1.044367 -0.222187  0.499361 -0.246761   \n",
       "1          22  0.962496  0.328461 -0.171479  2.109204  1.129566  1.696038   \n",
       "2          63  1.145524  0.575068  0.194008  2.598192 -0.092210 -1.044430   \n",
       "3          69  0.927060 -0.323684  0.387585  0.544474  0.246787  1.650358   \n",
       "4          83 -3.005237  2.600138  1.483691 -2.418473  0.306326 -0.824575   \n",
       "...       ...       ...       ...       ...       ...       ...       ...   \n",
       "28457  284769 -0.546378  1.433992 -0.313252  0.926044  0.522388 -0.565669   \n",
       "28458  284779 -0.764523  0.588379 -0.907599 -0.418847  0.901528 -0.760802   \n",
       "28459  284790 -0.446951  1.302212 -0.168583  0.981577  0.578957 -0.605641   \n",
       "28460  284801  2.039560 -0.175233 -1.196825  0.234580 -0.008713 -0.726571   \n",
       "28461  284806 -0.240440  0.530483  0.702510  0.689799 -0.377961  0.623708   \n",
       "\n",
       "             V7        V8        V9  ...       V22       V23       V24  \\\n",
       "0      0.651583  0.069539 -0.736727  ... -0.633753 -0.120794 -0.385050   \n",
       "1      0.107712  0.521502 -1.191311  ...  0.402492 -0.048508 -1.371866   \n",
       "2      0.531588 -0.241888 -0.896287  ... -0.119703 -0.076510  0.691320   \n",
       "3     -0.427576  0.615371  0.226278  ...  0.079359  0.096632 -0.992569   \n",
       "4      2.065426 -1.829347  4.009259  ... -0.181268 -0.163747  0.515821   \n",
       "...         ...       ...       ...  ...       ...       ...       ...   \n",
       "28457  1.066075  0.269799 -1.099446  ...  0.778817 -0.175451  0.030397   \n",
       "28458  0.758545  0.414698 -0.730854  ... -0.431876  0.141759  0.587119   \n",
       "28459  1.253430 -1.042610 -0.417116  ...  0.305268 -0.148093 -0.038712   \n",
       "28460  0.017050 -0.118228  0.435402  ... -0.717211  0.297930 -0.359769   \n",
       "28461 -0.686180  0.679145  0.392087  ...  0.800049 -0.163298  0.123205   \n",
       "\n",
       "            V25       V26       V27       V28       V29       V30  Class  \n",
       "0     -0.069733  0.094199  0.246219  0.083076 -0.255991 -0.994878      0  \n",
       "1      0.390814  0.199964  0.016371 -0.014605  0.168937 -0.994784      0  \n",
       "2      0.633984  0.048741 -0.053192  0.016251  0.169496 -0.994502      0  \n",
       "3      0.085096  0.377447  0.036096 -0.005960  0.331307 -0.994467      0  \n",
       "4      0.136318  0.460054 -0.251259 -1.105751 -0.287012 -0.994373      0  \n",
       "...         ...       ...       ...       ...       ...       ...    ...  \n",
       "28457  0.018381 -0.395994  0.301655  0.173585  0.202753  1.034622      0  \n",
       "28458 -0.200998  0.267337 -0.152951 -0.065285  0.810452  1.034693      0  \n",
       "28459  0.010209 -0.362666  0.503092  0.229921  0.537972  1.034763      0  \n",
       "28460 -0.315610  0.201114 -0.080826 -0.075071 -0.269964  1.034928      0  \n",
       "28461 -0.569159  0.546668  0.108821  0.104533 -0.167680  1.034975      0  \n",
       "\n",
       "[28462 rows x 32 columns]"
      ]
     },
     "execution_count": 23,
     "metadata": {},
     "output_type": "execute_result"
    }
   ],
   "source": [
    "val_df"
   ]
  },
  {
   "cell_type": "code",
   "execution_count": 24,
   "metadata": {},
   "outputs": [],
   "source": [
    "X_train = train_df.drop('ID', axis=1)\n",
    "X_val = val_df.drop(['ID', 'Class'], axis=1)\n",
    "y_val = val_df['Class']"
   ]
  },
  {
   "cell_type": "markdown",
   "metadata": {},
   "source": [
    "## 모델 학습 - IsolationForest "
   ]
  },
  {
   "cell_type": "markdown",
   "metadata": {},
   "source": [
    "      n_estimators=125 #나무의 개수(default 100)\n",
    "      max_samples=len(train_df) #각 나무 훈련 시 샘플링 하는 개수(default 256)\n",
    "      contamination=val_contamination #이상치 비율\n",
    "      bootstrap = False #각 나무 훈련을 위한 샘플링 시 True이면 복원 추출, False이면 비복원 "
   ]
  },
  {
   "cell_type": "markdown",
   "metadata": {},
   "source": [
    "#### Opuna 사용하지 않았을 때"
   ]
  },
  {
   "cell_type": "code",
   "execution_count": 25,
   "metadata": {},
   "outputs": [
    {
     "name": "stdout",
     "output_type": "stream",
     "text": [
      "validation data set에서 사기 비율 : 0.0010551491277433877\n"
     ]
    }
   ],
   "source": [
    "val_normal, val_fraud = val_df['Class'].value_counts()\n",
    "val_contamination = val_fraud / val_normal\n",
    "print(f'validation data set에서 사기 비율 : {val_contamination}')"
   ]
  },
  {
   "cell_type": "code",
   "execution_count": 26,
   "metadata": {},
   "outputs": [
    {
     "data": {
      "text/html": [
       "<style>#sk-container-id-2 {color: black;background-color: white;}#sk-container-id-2 pre{padding: 0;}#sk-container-id-2 div.sk-toggleable {background-color: white;}#sk-container-id-2 label.sk-toggleable__label {cursor: pointer;display: block;width: 100%;margin-bottom: 0;padding: 0.3em;box-sizing: border-box;text-align: center;}#sk-container-id-2 label.sk-toggleable__label-arrow:before {content: \"▸\";float: left;margin-right: 0.25em;color: #696969;}#sk-container-id-2 label.sk-toggleable__label-arrow:hover:before {color: black;}#sk-container-id-2 div.sk-estimator:hover label.sk-toggleable__label-arrow:before {color: black;}#sk-container-id-2 div.sk-toggleable__content {max-height: 0;max-width: 0;overflow: hidden;text-align: left;background-color: #f0f8ff;}#sk-container-id-2 div.sk-toggleable__content pre {margin: 0.2em;color: black;border-radius: 0.25em;background-color: #f0f8ff;}#sk-container-id-2 input.sk-toggleable__control:checked~div.sk-toggleable__content {max-height: 200px;max-width: 100%;overflow: auto;}#sk-container-id-2 input.sk-toggleable__control:checked~label.sk-toggleable__label-arrow:before {content: \"▾\";}#sk-container-id-2 div.sk-estimator input.sk-toggleable__control:checked~label.sk-toggleable__label {background-color: #d4ebff;}#sk-container-id-2 div.sk-label input.sk-toggleable__control:checked~label.sk-toggleable__label {background-color: #d4ebff;}#sk-container-id-2 input.sk-hidden--visually {border: 0;clip: rect(1px 1px 1px 1px);clip: rect(1px, 1px, 1px, 1px);height: 1px;margin: -1px;overflow: hidden;padding: 0;position: absolute;width: 1px;}#sk-container-id-2 div.sk-estimator {font-family: monospace;background-color: #f0f8ff;border: 1px dotted black;border-radius: 0.25em;box-sizing: border-box;margin-bottom: 0.5em;}#sk-container-id-2 div.sk-estimator:hover {background-color: #d4ebff;}#sk-container-id-2 div.sk-parallel-item::after {content: \"\";width: 100%;border-bottom: 1px solid gray;flex-grow: 1;}#sk-container-id-2 div.sk-label:hover label.sk-toggleable__label {background-color: #d4ebff;}#sk-container-id-2 div.sk-serial::before {content: \"\";position: absolute;border-left: 1px solid gray;box-sizing: border-box;top: 0;bottom: 0;left: 50%;z-index: 0;}#sk-container-id-2 div.sk-serial {display: flex;flex-direction: column;align-items: center;background-color: white;padding-right: 0.2em;padding-left: 0.2em;position: relative;}#sk-container-id-2 div.sk-item {position: relative;z-index: 1;}#sk-container-id-2 div.sk-parallel {display: flex;align-items: stretch;justify-content: center;background-color: white;position: relative;}#sk-container-id-2 div.sk-item::before, #sk-container-id-2 div.sk-parallel-item::before {content: \"\";position: absolute;border-left: 1px solid gray;box-sizing: border-box;top: 0;bottom: 0;left: 50%;z-index: -1;}#sk-container-id-2 div.sk-parallel-item {display: flex;flex-direction: column;z-index: 1;position: relative;background-color: white;}#sk-container-id-2 div.sk-parallel-item:first-child::after {align-self: flex-end;width: 50%;}#sk-container-id-2 div.sk-parallel-item:last-child::after {align-self: flex-start;width: 50%;}#sk-container-id-2 div.sk-parallel-item:only-child::after {width: 0;}#sk-container-id-2 div.sk-dashed-wrapped {border: 1px dashed gray;margin: 0 0.4em 0.5em 0.4em;box-sizing: border-box;padding-bottom: 0.4em;background-color: white;}#sk-container-id-2 div.sk-label label {font-family: monospace;font-weight: bold;display: inline-block;line-height: 1.2em;}#sk-container-id-2 div.sk-label-container {text-align: center;}#sk-container-id-2 div.sk-container {/* jupyter's `normalize.less` sets `[hidden] { display: none; }` but bootstrap.min.css set `[hidden] { display: none !important; }` so we also need the `!important` here to be able to override the default hidden behavior on the sphinx rendered scikit-learn.org. See: https://github.com/scikit-learn/scikit-learn/issues/21755 */display: inline-block !important;position: relative;}#sk-container-id-2 div.sk-text-repr-fallback {display: none;}</style><div id=\"sk-container-id-2\" class=\"sk-top-container\"><div class=\"sk-text-repr-fallback\"><pre>IsolationForest(contamination=0.0010551491277433877, max_samples=113842,\n",
       "                n_estimators=125, random_state=42)</pre><b>In a Jupyter environment, please rerun this cell to show the HTML representation or trust the notebook. <br />On GitHub, the HTML representation is unable to render, please try loading this page with nbviewer.org.</b></div><div class=\"sk-container\" hidden><div class=\"sk-item\"><div class=\"sk-estimator sk-toggleable\"><input class=\"sk-toggleable__control sk-hidden--visually\" id=\"sk-estimator-id-2\" type=\"checkbox\" checked><label for=\"sk-estimator-id-2\" class=\"sk-toggleable__label sk-toggleable__label-arrow\">IsolationForest</label><div class=\"sk-toggleable__content\"><pre>IsolationForest(contamination=0.0010551491277433877, max_samples=113842,\n",
       "                n_estimators=125, random_state=42)</pre></div></div></div></div></div>"
      ],
      "text/plain": [
       "IsolationForest(contamination=0.0010551491277433877, max_samples=113842,\n",
       "                n_estimators=125, random_state=42)"
      ]
     },
     "execution_count": 26,
     "metadata": {},
     "output_type": "execute_result"
    }
   ],
   "source": [
    "IFmodel=IsolationForest(n_estimators=125, \n",
    "                      max_samples=len(train_df), \n",
    "                      contamination=val_contamination, \n",
    "                      random_state=42, \n",
    "                      bootstrap=False,\n",
    "                      verbose=0)\n",
    "IFmodel.fit(X_train)"
   ]
  },
  {
   "cell_type": "code",
   "execution_count": 27,
   "metadata": {},
   "outputs": [],
   "source": [
    "pred_val=IFmodel.predict(X_val.to_numpy())"
   ]
  },
  {
   "cell_type": "code",
   "execution_count": 28,
   "metadata": {},
   "outputs": [],
   "source": [
    "def get_pred_label(model_pred):\n",
    "    model_pred = np.where(model_pred == 1, 0, model_pred)\n",
    "    model_pred = np.where(model_pred == -1, 1, model_pred)\n",
    "    return model_pred"
   ]
  },
  {
   "cell_type": "code",
   "execution_count": 29,
   "metadata": {},
   "outputs": [],
   "source": [
    "pred_val=IFmodel.predict(X_val.to_numpy())\n",
    "pred_val = get_pred_label(pred_val)"
   ]
  },
  {
   "cell_type": "code",
   "execution_count": 30,
   "metadata": {},
   "outputs": [
    {
     "name": "stdout",
     "output_type": "stream",
     "text": [
      "              precision    recall  f1-score   support\n",
      "\n",
      "           0       1.00      1.00      1.00     28432\n",
      "           1       0.41      0.40      0.41        30\n",
      "\n",
      "    accuracy                           1.00     28462\n",
      "   macro avg       0.71      0.70      0.70     28462\n",
      "weighted avg       1.00      1.00      1.00     28462\n",
      "\n",
      "Validation F1 Score : [0.7030820840915222]\n"
     ]
    }
   ],
   "source": [
    "IF_report = classification_report(y_val, pred_val)\n",
    "IF_f1_score = f1_score(y_val, pred_val, average = \"macro\")\n",
    "print(IF_report)\n",
    "print(f'Validation F1 Score : [{IF_f1_score}]')"
   ]
  },
  {
   "cell_type": "markdown",
   "metadata": {},
   "source": [
    "#### Optuna 사용했을 때\n",
    "- 각 trial을 모은 study 만들기\n",
    "- Parameter space 정하기       --> *n_estimators = **trial.suggest_int**('n_estimators', **low**, **high**))*\n",
    "\n",
    "        n_estimators = trial.suggest_int('n_estimators', 1, 200)\n",
    "        max_samples = trial.suggest_uniform('max_samples', 0.0, 1.0)\n",
    "        contamination = trial.suggest_loguniform('contamination', 1e-6, 1e-1)\n",
    "        bootstrap = trial.suggest_categorical('bootstrap', [True, False])\n"
   ]
  },
  {
   "cell_type": "code",
   "execution_count": 36,
   "metadata": {},
   "outputs": [],
   "source": [
    "import optuna\n",
    "from optuna.samplers import TPESampler\n",
    "from optuna import Trial, visualization\n",
    "\n",
    "# n_estimators = trial.suggest_int('n_estimators', 1, 200)\n",
    "# max_samples = trial.suggest_uniform('max_samples', 0.0, 1.0)\n",
    "# contamination = trial.suggest_loguniform('contamination', 1e-6, 1e-1)\n",
    "# bootstrap = trial.suggest_categorical('bootstrap', [True, False])"
   ]
  },
  {
   "cell_type": "code",
   "execution_count": null,
   "metadata": {},
   "outputs": [],
   "source": []
  },
  {
   "cell_type": "code",
   "execution_count": 35,
   "metadata": {},
   "outputs": [
    {
     "name": "stdout",
     "output_type": "stream",
     "text": [
      "1.2.1\n"
     ]
    }
   ],
   "source": [
    "import sklearn\n",
    "print(sklearn.__version__)"
   ]
  },
  {
   "cell_type": "code",
   "execution_count": 47,
   "metadata": {},
   "outputs": [],
   "source": [
    "def IFoptuna(trial: Trial, X_train, X_val, y_val):\n",
    "    param = {\n",
    "        \"n_estimators\" : trial.suggest_int('n_estimators', 100, 150),\n",
    "        \"max_samples\" : trial.suggest_uniform('max_samples', 0.7, 1.0),\n",
    "        \"contamination\" : trial.suggest_loguniform('contamination', 1e-4, 1e-2),\n",
    "        \"bootstrap\" : trial.suggest_categorical('bootstrap', [True, False]),\n",
    "        \"random_state\" : 42,\n",
    "        \"verbose\" : 0,\n",
    "    }\n",
    "\n",
    "    IFmodel_optuna=IsolationForest(**param)\n",
    "    IFmodel_optuna.fit(X_train)\n",
    "\n",
    "    pred_val_optuna = IFmodel_optuna.predict(X_val.to_numpy())\n",
    "\n",
    "    f1_score_optuna = f1_score(y_val, pred_val_optuna, average = \"macro\")\n",
    "\n",
    "    return f1_score_optuna"
   ]
  },
  {
   "cell_type": "code",
   "execution_count": 48,
   "metadata": {},
   "outputs": [
    {
     "name": "stderr",
     "output_type": "stream",
     "text": [
      "[I 2023-07-27 18:34:20,565] A new study created in memory with name: no-name-6b706854-527f-40c0-8438-1fc2ccae3487\n",
      "[I 2023-07-27 18:34:27,821] Trial 0 finished with value: 0.00042158516020236085 and parameters: {'n_estimators': 105, 'max_samples': 0.8787822841059066, 'contamination': 0.0009936681762472556, 'bootstrap': True}. Best is trial 0 with value: 0.00042158516020236085.\n",
      "[I 2023-07-27 18:34:35,135] Trial 1 finished with value: 0.0006084860399260456 and parameters: {'n_estimators': 110, 'max_samples': 0.8392777350504581, 'contamination': 0.0001641524277799327, 'bootstrap': True}. Best is trial 1 with value: 0.0006084860399260456.\n",
      "[I 2023-07-27 18:34:44,747] Trial 2 finished with value: 0.00021246458923512748 and parameters: {'n_estimators': 146, 'max_samples': 0.715962540992887, 'contamination': 0.008961874198070367, 'bootstrap': True}. Best is trial 1 with value: 0.0006084860399260456.\n",
      "[I 2023-07-27 18:34:54,889] Trial 3 finished with value: 0.0004681647940074907 and parameters: {'n_estimators': 141, 'max_samples': 0.9805270881690327, 'contamination': 0.00036391445546244826, 'bootstrap': False}. Best is trial 1 with value: 0.0006084860399260456.\n",
      "[I 2023-07-27 18:35:03,402] Trial 4 finished with value: 0.0003748740657435392 and parameters: {'n_estimators': 120, 'max_samples': 0.8943100952385501, 'contamination': 0.0014530692509739146, 'bootstrap': False}. Best is trial 1 with value: 0.0006084860399260456.\n",
      "[I 2023-07-27 18:35:13,191] Trial 5 finished with value: 0.0003048959249486954 and parameters: {'n_estimators': 138, 'max_samples': 0.9112425625153315, 'contamination': 0.0028610007926567356, 'bootstrap': False}. Best is trial 1 with value: 0.0006084860399260456.\n",
      "[I 2023-07-27 18:35:21,213] Trial 6 finished with value: 0.0004681647940074907 and parameters: {'n_estimators': 123, 'max_samples': 0.7784617036367526, 'contamination': 0.00037116791593258845, 'bootstrap': True}. Best is trial 1 with value: 0.0006084860399260456.\n",
      "[I 2023-07-27 18:35:28,434] Trial 7 finished with value: 0.0003749267721148213 and parameters: {'n_estimators': 109, 'max_samples': 0.8386866315678501, 'contamination': 0.0017774283811488112, 'bootstrap': True}. Best is trial 1 with value: 0.0006084860399260456.\n",
      "[I 2023-07-27 18:35:38,390] Trial 8 finished with value: 0.0004449440307245562 and parameters: {'n_estimators': 148, 'max_samples': 0.9248391777991374, 'contamination': 0.0008411189745161977, 'bootstrap': True}. Best is trial 1 with value: 0.0006084860399260456.\n",
      "[I 2023-07-27 18:35:48,166] Trial 9 finished with value: 0.00030502469526859767 and parameters: {'n_estimators': 138, 'max_samples': 0.8313812055431865, 'contamination': 0.0032602120512790736, 'bootstrap': False}. Best is trial 1 with value: 0.0006084860399260456.\n",
      "[I 2023-07-27 18:35:55,758] Trial 10 finished with value: 0.000655223653573894 and parameters: {'n_estimators': 114, 'max_samples': 0.8052010198786184, 'contamination': 0.00013558701491617358, 'bootstrap': True}. Best is trial 10 with value: 0.000655223653573894.\n",
      "[I 2023-07-27 18:36:03,399] Trial 11 finished with value: 0.000655223653573894 and parameters: {'n_estimators': 114, 'max_samples': 0.7966175980227097, 'contamination': 0.00011446023280301872, 'bootstrap': True}. Best is trial 10 with value: 0.000655223653573894.\n",
      "[I 2023-07-27 18:36:11,359] Trial 12 finished with value: 0.0006552006552006552 and parameters: {'n_estimators': 119, 'max_samples': 0.7912567819447255, 'contamination': 0.0001011391456086757, 'bootstrap': True}. Best is trial 10 with value: 0.000655223653573894.\n",
      "[I 2023-07-27 18:36:18,226] Trial 13 finished with value: 0.0006318449873631002 and parameters: {'n_estimators': 100, 'max_samples': 0.7710234708940475, 'contamination': 0.0001138556857041476, 'bootstrap': True}. Best is trial 10 with value: 0.000655223653573894.\n",
      "[I 2023-07-27 18:36:26,929] Trial 14 finished with value: 0.0006084860399260456 and parameters: {'n_estimators': 130, 'max_samples': 0.7317261157048549, 'contamination': 0.00019963312379139416, 'bootstrap': True}. Best is trial 10 with value: 0.000655223653573894.\n",
      "[I 2023-07-27 18:36:34,714] Trial 15 finished with value: 0.0005149451115324298 and parameters: {'n_estimators': 115, 'max_samples': 0.8022193447428745, 'contamination': 0.0002667158595587876, 'bootstrap': True}. Best is trial 10 with value: 0.000655223653573894.\n",
      "[I 2023-07-27 18:36:43,270] Trial 16 finished with value: 0.0006084860399260456 and parameters: {'n_estimators': 129, 'max_samples': 0.751554327460701, 'contamination': 0.00016914931139970312, 'bootstrap': True}. Best is trial 10 with value: 0.000655223653573894.\n",
      "[I 2023-07-27 18:36:50,894] Trial 17 finished with value: 0.0006552006552006552 and parameters: {'n_estimators': 114, 'max_samples': 0.812137864278051, 'contamination': 0.00010055056514936329, 'bootstrap': True}. Best is trial 10 with value: 0.000655223653573894.\n",
      "[I 2023-07-27 18:36:59,781] Trial 18 finished with value: 0.00046823055672613186 and parameters: {'n_estimators': 127, 'max_samples': 0.7097552417966444, 'contamination': 0.0005180349968560508, 'bootstrap': False}. Best is trial 10 with value: 0.000655223653573894.\n",
      "[I 2023-07-27 18:37:06,766] Trial 19 finished with value: 0.0005850827306981206 and parameters: {'n_estimators': 105, 'max_samples': 0.7573795028202767, 'contamination': 0.000234252965027389, 'bootstrap': True}. Best is trial 10 with value: 0.000655223653573894.\n",
      "[I 2023-07-27 18:37:14,412] Trial 20 finished with value: 0.00046823055672613186 and parameters: {'n_estimators': 113, 'max_samples': 0.806127257976259, 'contamination': 0.0005215414852660258, 'bootstrap': True}. Best is trial 10 with value: 0.000655223653573894.\n",
      "[I 2023-07-27 18:37:22,490] Trial 21 finished with value: 0.000655223653573894 and parameters: {'n_estimators': 121, 'max_samples': 0.7827352855408425, 'contamination': 0.00010568966346998659, 'bootstrap': True}. Best is trial 10 with value: 0.000655223653573894.\n",
      "[I 2023-07-27 18:37:30,248] Trial 22 finished with value: 0.0006318449873631002 and parameters: {'n_estimators': 119, 'max_samples': 0.7779397085044728, 'contamination': 0.00013935362819709695, 'bootstrap': True}. Best is trial 10 with value: 0.000655223653573894.\n",
      "[I 2023-07-27 18:37:38,440] Trial 23 finished with value: 0.0006318449873631002 and parameters: {'n_estimators': 124, 'max_samples': 0.7472283056962992, 'contamination': 0.00014035809874188206, 'bootstrap': True}. Best is trial 10 with value: 0.000655223653573894.\n",
      "[I 2023-07-27 18:37:46,068] Trial 24 finished with value: 0.0005850827306981206 and parameters: {'n_estimators': 116, 'max_samples': 0.8060968663572943, 'contamination': 0.00019948641603704406, 'bootstrap': True}. Best is trial 10 with value: 0.000655223653573894.\n",
      "[I 2023-07-27 18:37:54,679] Trial 25 finished with value: 0.0006552466535617337 and parameters: {'n_estimators': 132, 'max_samples': 0.8254232312066738, 'contamination': 0.00013917548290404293, 'bootstrap': True}. Best is trial 25 with value: 0.0006552466535617337.\n",
      "[I 2023-07-27 18:38:04,108] Trial 26 finished with value: 0.0005851032707272833 and parameters: {'n_estimators': 133, 'max_samples': 0.8579426568297139, 'contamination': 0.0002641273014431546, 'bootstrap': False}. Best is trial 25 with value: 0.0006552466535617337.\n",
      "[I 2023-07-27 18:38:11,010] Trial 27 finished with value: 0.0006318449873631002 and parameters: {'n_estimators': 106, 'max_samples': 0.8221698797073396, 'contamination': 0.00014856299661176857, 'bootstrap': True}. Best is trial 25 with value: 0.0006552466535617337.\n",
      "[I 2023-07-27 18:38:19,799] Trial 28 finished with value: 0.0005617188597107147 and parameters: {'n_estimators': 132, 'max_samples': 0.863150545836428, 'contamination': 0.00030642200699241266, 'bootstrap': True}. Best is trial 25 with value: 0.0006552466535617337.\n",
      "[I 2023-07-27 18:38:26,622] Trial 29 finished with value: 0.0006084860399260456 and parameters: {'n_estimators': 102, 'max_samples': 0.857789481749902, 'contamination': 0.00018760456878711679, 'bootstrap': True}. Best is trial 25 with value: 0.0006552466535617337.\n",
      "[I 2023-07-27 18:38:34,012] Trial 30 finished with value: 0.0006084646797954622 and parameters: {'n_estimators': 111, 'max_samples': 0.8194555175353965, 'contamination': 0.0002229679431672033, 'bootstrap': True}. Best is trial 25 with value: 0.0006552466535617337.\n",
      "[I 2023-07-27 18:38:42,046] Trial 31 finished with value: 0.000655223653573894 and parameters: {'n_estimators': 121, 'max_samples': 0.7967868477979367, 'contamination': 0.00012061925683031273, 'bootstrap': True}. Best is trial 25 with value: 0.0006552466535617337.\n",
      "[I 2023-07-27 18:38:49,825] Trial 32 finished with value: 0.0006318449873631002 and parameters: {'n_estimators': 117, 'max_samples': 0.7680538056545929, 'contamination': 0.00014230944957603606, 'bootstrap': True}. Best is trial 25 with value: 0.0006552466535617337.\n",
      "[I 2023-07-27 18:38:58,458] Trial 33 finished with value: 0.000655223653573894 and parameters: {'n_estimators': 126, 'max_samples': 0.7894187510450158, 'contamination': 0.00010675910804928943, 'bootstrap': True}. Best is trial 25 with value: 0.0006552466535617337.\n",
      "[I 2023-07-27 18:39:05,664] Trial 34 finished with value: 0.0006084646797954622 and parameters: {'n_estimators': 107, 'max_samples': 0.8446996877166861, 'contamination': 0.00016070412471972913, 'bootstrap': True}. Best is trial 25 with value: 0.0006552466535617337.\n",
      "[I 2023-07-27 18:39:13,142] Trial 35 finished with value: 0.0006318449873631002 and parameters: {'n_estimators': 111, 'max_samples': 0.8286532094531457, 'contamination': 0.00017660736898721666, 'bootstrap': True}. Best is trial 25 with value: 0.0006552466535617337.\n",
      "[I 2023-07-27 18:39:23,244] Trial 36 finished with value: 0.0006552466535617337 and parameters: {'n_estimators': 143, 'max_samples': 0.7832597939674173, 'contamination': 0.00013242865422431014, 'bootstrap': False}. Best is trial 25 with value: 0.0006552466535617337.\n",
      "[I 2023-07-27 18:39:33,249] Trial 37 finished with value: 0.0005149451115324298 and parameters: {'n_estimators': 144, 'max_samples': 0.7370503956686798, 'contamination': 0.00032680478389004276, 'bootstrap': False}. Best is trial 25 with value: 0.0006552466535617337.\n",
      "[I 2023-07-27 18:39:42,712] Trial 38 finished with value: 0.0006084646797954622 and parameters: {'n_estimators': 136, 'max_samples': 0.7644850273654096, 'contamination': 0.00013560246310130773, 'bootstrap': False}. Best is trial 25 with value: 0.0006552466535617337.\n",
      "[I 2023-07-27 18:39:52,754] Trial 39 finished with value: 0.0005851032707272833 and parameters: {'n_estimators': 142, 'max_samples': 0.8382142252169318, 'contamination': 0.00021942104952995774, 'bootstrap': False}. Best is trial 25 with value: 0.0006552466535617337.\n",
      "[I 2023-07-27 18:40:03,230] Trial 40 finished with value: 0.000468181232955277 and parameters: {'n_estimators': 150, 'max_samples': 0.8151193478778289, 'contamination': 0.00039973577506696565, 'bootstrap': False}. Best is trial 25 with value: 0.0006552466535617337.\n",
      "[I 2023-07-27 18:40:11,660] Trial 41 finished with value: 0.0006552466535617337 and parameters: {'n_estimators': 123, 'max_samples': 0.7823043152733177, 'contamination': 0.00012024139207627606, 'bootstrap': False}. Best is trial 25 with value: 0.0006552466535617337.\n",
      "[I 2023-07-27 18:40:21,121] Trial 42 finished with value: 0.0006552466535617337 and parameters: {'n_estimators': 137, 'max_samples': 0.7874537376526413, 'contamination': 0.00012896789612657633, 'bootstrap': False}. Best is trial 25 with value: 0.0006552466535617337.\n",
      "[I 2023-07-27 18:40:30,855] Trial 43 finished with value: 0.0006084860399260456 and parameters: {'n_estimators': 136, 'max_samples': 0.7795789361301739, 'contamination': 0.00017378662733291854, 'bootstrap': False}. Best is trial 25 with value: 0.0006552466535617337.\n",
      "[I 2023-07-27 18:40:40,623] Trial 44 finished with value: 0.000655223653573894 and parameters: {'n_estimators': 140, 'max_samples': 0.7934197780050043, 'contamination': 0.00013232184418646845, 'bootstrap': False}. Best is trial 25 with value: 0.0006552466535617337.\n",
      "[I 2023-07-27 18:40:50,197] Trial 45 finished with value: 0.0006318449873631002 and parameters: {'n_estimators': 136, 'max_samples': 0.8256183374308803, 'contamination': 0.00017047689711555998, 'bootstrap': False}. Best is trial 25 with value: 0.0006552466535617337.\n",
      "[I 2023-07-27 18:41:00,324] Trial 46 finished with value: 0.000655223653573894 and parameters: {'n_estimators': 145, 'max_samples': 0.7640543890887088, 'contamination': 0.00012273849102164744, 'bootstrap': False}. Best is trial 25 with value: 0.0006552466535617337.\n",
      "[I 2023-07-27 18:41:10,192] Trial 47 finished with value: 0.0005383328067034137 and parameters: {'n_estimators': 142, 'max_samples': 0.7815980329292503, 'contamination': 0.0002499916869677365, 'bootstrap': False}. Best is trial 25 with value: 0.0006552466535617337.\n",
      "[I 2023-07-27 18:41:19,444] Trial 48 finished with value: 0.0006552006552006552 and parameters: {'n_estimators': 132, 'max_samples': 0.8375053897489114, 'contamination': 0.0001009571671018293, 'bootstrap': False}. Best is trial 25 with value: 0.0006552466535617337.\n",
      "[I 2023-07-27 18:41:29,773] Trial 49 finished with value: 0.0006084646797954622 and parameters: {'n_estimators': 147, 'max_samples': 0.8090567578566553, 'contamination': 0.00019942261051475942, 'bootstrap': False}. Best is trial 25 with value: 0.0006552466535617337.\n",
      "[I 2023-07-27 18:41:39,759] Trial 50 finished with value: 0.000655223653573894 and parameters: {'n_estimators': 138, 'max_samples': 0.79177733620692, 'contamination': 0.00014725635190133998, 'bootstrap': False}. Best is trial 25 with value: 0.0006552466535617337.\n",
      "[I 2023-07-27 18:41:49,377] Trial 51 finished with value: 0.000655223653573894 and parameters: {'n_estimators': 134, 'max_samples': 0.8000324958480588, 'contamination': 0.00012245034351825255, 'bootstrap': False}. Best is trial 25 with value: 0.0006552466535617337.\n",
      "[I 2023-07-27 18:41:58,629] Trial 52 finished with value: 0.0006552006552006552 and parameters: {'n_estimators': 130, 'max_samples': 0.77128452714751, 'contamination': 0.00012028357279736602, 'bootstrap': False}. Best is trial 25 with value: 0.0006552466535617337.\n",
      "[I 2023-07-27 18:42:06,471] Trial 53 finished with value: 0.0006318449873631002 and parameters: {'n_estimators': 109, 'max_samples': 0.810076649600304, 'contamination': 0.00015148624367959177, 'bootstrap': False}. Best is trial 25 with value: 0.0006552466535617337.\n",
      "[I 2023-07-27 18:42:15,569] Trial 54 finished with value: 0.000655223653573894 and parameters: {'n_estimators': 127, 'max_samples': 0.7507669315718344, 'contamination': 0.00010220242252322322, 'bootstrap': False}. Best is trial 25 with value: 0.0006552466535617337.\n",
      "[I 2023-07-27 18:42:23,327] Trial 55 finished with value: 0.0006084646797954622 and parameters: {'n_estimators': 118, 'max_samples': 0.7870720280883925, 'contamination': 0.00019873707057377506, 'bootstrap': True}. Best is trial 25 with value: 0.0006552466535617337.\n",
      "[I 2023-07-27 18:42:32,049] Trial 56 finished with value: 0.0006318228088033978 and parameters: {'n_estimators': 123, 'max_samples': 0.8183799864496025, 'contamination': 0.00016590468272594306, 'bootstrap': False}. Best is trial 25 with value: 0.0006552466535617337.\n",
      "[I 2023-07-27 18:42:39,481] Trial 57 finished with value: 0.0006084646797954622 and parameters: {'n_estimators': 113, 'max_samples': 0.8034076322540906, 'contamination': 0.00011711767386996052, 'bootstrap': True}. Best is trial 25 with value: 0.0006552466535617337.\n",
      "[I 2023-07-27 18:42:49,418] Trial 58 finished with value: 0.0005851032707272833 and parameters: {'n_estimators': 140, 'max_samples': 0.831357039891717, 'contamination': 0.00022883672924251157, 'bootstrap': False}. Best is trial 25 with value: 0.0006552466535617337.\n",
      "[I 2023-07-27 18:42:58,071] Trial 59 finished with value: 0.000655223653573894 and parameters: {'n_estimators': 129, 'max_samples': 0.7789623408128136, 'contamination': 0.00012610452368082, 'bootstrap': True}. Best is trial 25 with value: 0.0006552466535617337.\n",
      "[I 2023-07-27 18:43:06,298] Trial 60 finished with value: 0.0005149451115324298 and parameters: {'n_estimators': 122, 'max_samples': 0.7974674942285309, 'contamination': 0.000277749312692084, 'bootstrap': True}. Best is trial 25 with value: 0.0006552466535617337.\n",
      "[I 2023-07-27 18:43:14,653] Trial 61 finished with value: 0.0006552006552006552 and parameters: {'n_estimators': 125, 'max_samples': 0.7874771194254553, 'contamination': 0.0001027431615109995, 'bootstrap': True}. Best is trial 25 with value: 0.0006552466535617337.\n",
      "[I 2023-07-27 18:43:22,628] Trial 62 finished with value: 0.0006318449873631002 and parameters: {'n_estimators': 120, 'max_samples': 0.7796512259610826, 'contamination': 0.0001496244989831015, 'bootstrap': True}. Best is trial 25 with value: 0.0006552466535617337.\n",
      "[I 2023-07-27 18:43:30,224] Trial 63 finished with value: 0.0006318449873631002 and parameters: {'n_estimators': 113, 'max_samples': 0.8145590517904382, 'contamination': 0.00011910428120387792, 'bootstrap': True}. Best is trial 25 with value: 0.0006552466535617337.\n",
      "[I 2023-07-27 18:43:38,039] Trial 64 finished with value: 0.0005851032707272833 and parameters: {'n_estimators': 117, 'max_samples': 0.7629223522528857, 'contamination': 0.00018498853629837233, 'bootstrap': True}. Best is trial 25 with value: 0.0006552466535617337.\n",
      "[I 2023-07-27 18:43:45,743] Trial 65 finished with value: 0.000655223653573894 and parameters: {'n_estimators': 115, 'max_samples': 0.7713937242204073, 'contamination': 0.00010088386200135876, 'bootstrap': True}. Best is trial 25 with value: 0.0006552466535617337.\n",
      "[I 2023-07-27 18:43:53,828] Trial 66 finished with value: 0.000655223653573894 and parameters: {'n_estimators': 121, 'max_samples': 0.7560549586737918, 'contamination': 0.00013593795962419362, 'bootstrap': True}. Best is trial 25 with value: 0.0006552466535617337.\n",
      "[I 2023-07-27 18:44:02,481] Trial 67 finished with value: 0.0006084860399260456 and parameters: {'n_estimators': 128, 'max_samples': 0.7955023768863759, 'contamination': 0.00016067304695652172, 'bootstrap': True}. Best is trial 25 with value: 0.0006552466535617337.\n",
      "[I 2023-07-27 18:44:10,720] Trial 68 finished with value: 0.0005850827306981206 and parameters: {'n_estimators': 124, 'max_samples': 0.8045747971384919, 'contamination': 0.00021016080218969876, 'bootstrap': True}. Best is trial 25 with value: 0.0006552466535617337.\n",
      "[I 2023-07-27 18:44:17,877] Trial 69 finished with value: 0.0006318228088033978 and parameters: {'n_estimators': 103, 'max_samples': 0.7434421768014603, 'contamination': 0.00011413051024002595, 'bootstrap': False}. Best is trial 25 with value: 0.0006552466535617337.\n",
      "[I 2023-07-27 18:44:24,949] Trial 70 finished with value: 0.0006318449873631002 and parameters: {'n_estimators': 109, 'max_samples': 0.7248776664236687, 'contamination': 0.00013729250947619657, 'bootstrap': True}. Best is trial 25 with value: 0.0006552466535617337.\n",
      "[I 2023-07-27 18:44:32,782] Trial 71 finished with value: 0.0006552006552006552 and parameters: {'n_estimators': 120, 'max_samples': 0.7978840201577266, 'contamination': 0.00011569999728965744, 'bootstrap': True}. Best is trial 25 with value: 0.0006552466535617337.\n",
      "[I 2023-07-27 18:44:40,744] Trial 72 finished with value: 0.0006552466535617337 and parameters: {'n_estimators': 122, 'max_samples': 0.8229134239100045, 'contamination': 0.00015695166467700003, 'bootstrap': True}. Best is trial 25 with value: 0.0006552466535617337.\n",
      "[I 2023-07-27 18:44:48,553] Trial 73 finished with value: 0.0006084646797954622 and parameters: {'n_estimators': 118, 'max_samples': 0.8210907770719906, 'contamination': 0.00017772095895177023, 'bootstrap': True}. Best is trial 25 with value: 0.0006552466535617337.\n",
      "[I 2023-07-27 18:44:57,122] Trial 74 finished with value: 0.0006318449873631002 and parameters: {'n_estimators': 126, 'max_samples': 0.7856237123078486, 'contamination': 0.00016332605510633284, 'bootstrap': True}. Best is trial 25 with value: 0.0006552466535617337.\n",
      "[I 2023-07-27 18:45:05,334] Trial 75 finished with value: 0.000655223653573894 and parameters: {'n_estimators': 123, 'max_samples': 0.8257424001992368, 'contamination': 0.00013402709410983914, 'bootstrap': True}. Best is trial 25 with value: 0.0006552466535617337.\n",
      "[I 2023-07-27 18:45:14,348] Trial 76 finished with value: 0.000631867167479903 and parameters: {'n_estimators': 116, 'max_samples': 0.8113608612307028, 'contamination': 0.00014898515685574947, 'bootstrap': True}. Best is trial 25 with value: 0.0006552466535617337.\n",
      "[I 2023-07-27 18:45:28,228] Trial 77 finished with value: 0.0006084860399260456 and parameters: {'n_estimators': 131, 'max_samples': 0.7755893356097837, 'contamination': 0.00019403283117449968, 'bootstrap': False}. Best is trial 25 with value: 0.0006552466535617337.\n",
      "[I 2023-07-27 18:45:39,022] Trial 78 finished with value: 0.000631867167479903 and parameters: {'n_estimators': 134, 'max_samples': 0.8340828038964138, 'contamination': 0.00024399194909880374, 'bootstrap': True}. Best is trial 25 with value: 0.0006552466535617337.\n",
      "[I 2023-07-27 18:45:51,336] Trial 79 finished with value: 0.0006552006552006552 and parameters: {'n_estimators': 138, 'max_samples': 0.7586394918510618, 'contamination': 0.00010984019350006461, 'bootstrap': False}. Best is trial 25 with value: 0.0006552466535617337.\n",
      "[I 2023-07-27 18:46:01,000] Trial 80 finished with value: 0.0006318449873631002 and parameters: {'n_estimators': 119, 'max_samples': 0.8456938823387937, 'contamination': 0.0001312035158435672, 'bootstrap': True}. Best is trial 25 with value: 0.0006552466535617337.\n",
      "[I 2023-07-27 18:46:10,905] Trial 81 finished with value: 0.0006318449873631002 and parameters: {'n_estimators': 121, 'max_samples': 0.7993603584560246, 'contamination': 0.00011213935462062352, 'bootstrap': True}. Best is trial 25 with value: 0.0006552466535617337.\n",
      "[I 2023-07-27 18:46:20,814] Trial 82 finished with value: 0.0006084646797954622 and parameters: {'n_estimators': 122, 'max_samples': 0.8065515540475722, 'contamination': 0.00015203647643966114, 'bootstrap': True}. Best is trial 25 with value: 0.0006552466535617337.\n",
      "[I 2023-07-27 18:46:32,200] Trial 83 finished with value: 0.0006318449873631002 and parameters: {'n_estimators': 143, 'max_samples': 0.7894021914127085, 'contamination': 0.0001264877822312591, 'bootstrap': True}. Best is trial 25 with value: 0.0006552466535617337.\n",
      "[I 2023-07-27 18:46:40,714] Trial 84 finished with value: 0.0006084646797954622 and parameters: {'n_estimators': 125, 'max_samples': 0.7711182519668961, 'contamination': 0.00018162033579763014, 'bootstrap': True}. Best is trial 25 with value: 0.0006552466535617337.\n",
      "[I 2023-07-27 18:46:49,960] Trial 85 finished with value: 0.0006552006552006552 and parameters: {'n_estimators': 111, 'max_samples': 0.8176228027899274, 'contamination': 0.00011223846578977258, 'bootstrap': False}. Best is trial 25 with value: 0.0006552466535617337.\n",
      "[I 2023-07-27 18:47:00,621] Trial 86 finished with value: 0.0006084860399260456 and parameters: {'n_estimators': 114, 'max_samples': 0.7837451223063342, 'contamination': 0.0002171976361019987, 'bootstrap': True}. Best is trial 25 with value: 0.0006552466535617337.\n",
      "[I 2023-07-27 18:47:11,283] Trial 87 finished with value: 0.0006318449873631002 and parameters: {'n_estimators': 124, 'max_samples': 0.7928087851611526, 'contamination': 0.000160817378308463, 'bootstrap': False}. Best is trial 25 with value: 0.0006552466535617337.\n",
      "[I 2023-07-27 18:47:23,231] Trial 88 finished with value: 0.000655223653573894 and parameters: {'n_estimators': 148, 'max_samples': 0.8269606669908444, 'contamination': 0.00013144195541949178, 'bootstrap': True}. Best is trial 25 with value: 0.0006552466535617337.\n",
      "[I 2023-07-27 18:47:33,351] Trial 89 finished with value: 0.0006318449873631002 and parameters: {'n_estimators': 140, 'max_samples': 0.8110548236383868, 'contamination': 0.0001428013174840662, 'bootstrap': False}. Best is trial 25 with value: 0.0006552466535617337.\n",
      "[I 2023-07-27 18:47:41,666] Trial 90 finished with value: 0.0006318449873631002 and parameters: {'n_estimators': 127, 'max_samples': 0.8004883993506126, 'contamination': 0.00010880854731228639, 'bootstrap': True}. Best is trial 25 with value: 0.0006552466535617337.\n",
      "[I 2023-07-27 18:47:49,609] Trial 91 finished with value: 0.0006552006552006552 and parameters: {'n_estimators': 122, 'max_samples': 0.7897920375343275, 'contamination': 0.00010371337801252187, 'bootstrap': True}. Best is trial 25 with value: 0.0006552466535617337.\n",
      "[I 2023-07-27 18:47:57,182] Trial 92 finished with value: 0.0006318449873631002 and parameters: {'n_estimators': 120, 'max_samples': 0.7761981336358723, 'contamination': 0.00011945025607952038, 'bootstrap': True}. Best is trial 25 with value: 0.0006552466535617337.\n",
      "[I 2023-07-27 18:48:05,332] Trial 93 finished with value: 0.0006318449873631002 and parameters: {'n_estimators': 126, 'max_samples': 0.7840719468938309, 'contamination': 0.00012431454953006405, 'bootstrap': True}. Best is trial 25 with value: 0.0006552466535617337.\n",
      "[I 2023-07-27 18:48:14,450] Trial 94 finished with value: 0.0006084646797954622 and parameters: {'n_estimators': 134, 'max_samples': 0.8044415699847899, 'contamination': 0.00016888554733138697, 'bootstrap': True}. Best is trial 25 with value: 0.0006552466535617337.\n",
      "[I 2023-07-27 18:48:22,805] Trial 95 finished with value: 0.0005850827306981206 and parameters: {'n_estimators': 129, 'max_samples': 0.7915308895795999, 'contamination': 0.0001459594836314651, 'bootstrap': True}. Best is trial 25 with value: 0.0006552466535617337.\n",
      "[I 2023-07-27 18:48:30,866] Trial 96 finished with value: 0.0006552006552006552 and parameters: {'n_estimators': 116, 'max_samples': 0.8173155026865898, 'contamination': 0.00010029758406341283, 'bootstrap': False}. Best is trial 25 with value: 0.0006552466535617337.\n",
      "[I 2023-07-27 18:48:37,825] Trial 97 finished with value: 0.000655223653573894 and parameters: {'n_estimators': 107, 'max_samples': 0.7958226774581304, 'contamination': 0.00012733987303458776, 'bootstrap': True}. Best is trial 25 with value: 0.0006552466535617337.\n",
      "[I 2023-07-27 18:48:46,112] Trial 98 finished with value: 0.0006084860399260456 and parameters: {'n_estimators': 118, 'max_samples': 0.7737565670323642, 'contamination': 0.00018763593994879047, 'bootstrap': False}. Best is trial 25 with value: 0.0006552466535617337.\n",
      "[I 2023-07-27 18:48:55,525] Trial 99 finished with value: 0.000655223653573894 and parameters: {'n_estimators': 146, 'max_samples': 0.7650049745379215, 'contamination': 0.00011245374684283688, 'bootstrap': True}. Best is trial 25 with value: 0.0006552466535617337.\n"
     ]
    },
    {
     "name": "stdout",
     "output_type": "stream",
     "text": [
      "Best trial: score 0.0006552466535617337, \n",
      "params {'n_estimators': 132, 'max_samples': 0.8254232312066738, 'contamination': 0.00013917548290404293, 'bootstrap': True}\n"
     ]
    }
   ],
   "source": [
    "study = optuna.create_study(direction='maximize',sampler=TPESampler())\n",
    "\n",
    "study.optimize(lambda trial : IFoptuna(trial, X_train, X_val, y_val),n_trials = 100) #n_trials = 10\n",
    "print('Best trial: score {}, \\nparams {}'.format(study.best_trial.value,study.best_trial.params))"
   ]
  },
  {
   "cell_type": "code",
   "execution_count": 49,
   "metadata": {},
   "outputs": [
    {
     "data": {
      "application/vnd.plotly.v1+json": {
       "config": {
        "plotlyServerURL": "https://plot.ly"
       },
       "data": [
        {
         "cliponaxis": false,
         "hovertemplate": [
          "max_samples (FloatDistribution): 0.040045671101617844<extra></extra>",
          "bootstrap (CategoricalDistribution): 0.047485293220633766<extra></extra>",
          "n_estimators (IntDistribution): 0.0873040189957334<extra></extra>",
          "contamination (FloatDistribution): 0.825165016682015<extra></extra>"
         ],
         "marker": {
          "color": "rgb(66,146,198)"
         },
         "orientation": "h",
         "text": [
          "0.04",
          "0.05",
          "0.09",
          "0.83"
         ],
         "textposition": "outside",
         "type": "bar",
         "x": [
          0.040045671101617844,
          0.047485293220633766,
          0.0873040189957334,
          0.825165016682015
         ],
         "y": [
          "max_samples",
          "bootstrap",
          "n_estimators",
          "contamination"
         ]
        }
       ],
       "layout": {
        "showlegend": false,
        "template": {
         "data": {
          "bar": [
           {
            "error_x": {
             "color": "#2a3f5f"
            },
            "error_y": {
             "color": "#2a3f5f"
            },
            "marker": {
             "line": {
              "color": "#E5ECF6",
              "width": 0.5
             },
             "pattern": {
              "fillmode": "overlay",
              "size": 10,
              "solidity": 0.2
             }
            },
            "type": "bar"
           }
          ],
          "barpolar": [
           {
            "marker": {
             "line": {
              "color": "#E5ECF6",
              "width": 0.5
             },
             "pattern": {
              "fillmode": "overlay",
              "size": 10,
              "solidity": 0.2
             }
            },
            "type": "barpolar"
           }
          ],
          "carpet": [
           {
            "aaxis": {
             "endlinecolor": "#2a3f5f",
             "gridcolor": "white",
             "linecolor": "white",
             "minorgridcolor": "white",
             "startlinecolor": "#2a3f5f"
            },
            "baxis": {
             "endlinecolor": "#2a3f5f",
             "gridcolor": "white",
             "linecolor": "white",
             "minorgridcolor": "white",
             "startlinecolor": "#2a3f5f"
            },
            "type": "carpet"
           }
          ],
          "choropleth": [
           {
            "colorbar": {
             "outlinewidth": 0,
             "ticks": ""
            },
            "type": "choropleth"
           }
          ],
          "contour": [
           {
            "colorbar": {
             "outlinewidth": 0,
             "ticks": ""
            },
            "colorscale": [
             [
              0,
              "#0d0887"
             ],
             [
              0.1111111111111111,
              "#46039f"
             ],
             [
              0.2222222222222222,
              "#7201a8"
             ],
             [
              0.3333333333333333,
              "#9c179e"
             ],
             [
              0.4444444444444444,
              "#bd3786"
             ],
             [
              0.5555555555555556,
              "#d8576b"
             ],
             [
              0.6666666666666666,
              "#ed7953"
             ],
             [
              0.7777777777777778,
              "#fb9f3a"
             ],
             [
              0.8888888888888888,
              "#fdca26"
             ],
             [
              1,
              "#f0f921"
             ]
            ],
            "type": "contour"
           }
          ],
          "contourcarpet": [
           {
            "colorbar": {
             "outlinewidth": 0,
             "ticks": ""
            },
            "type": "contourcarpet"
           }
          ],
          "heatmap": [
           {
            "colorbar": {
             "outlinewidth": 0,
             "ticks": ""
            },
            "colorscale": [
             [
              0,
              "#0d0887"
             ],
             [
              0.1111111111111111,
              "#46039f"
             ],
             [
              0.2222222222222222,
              "#7201a8"
             ],
             [
              0.3333333333333333,
              "#9c179e"
             ],
             [
              0.4444444444444444,
              "#bd3786"
             ],
             [
              0.5555555555555556,
              "#d8576b"
             ],
             [
              0.6666666666666666,
              "#ed7953"
             ],
             [
              0.7777777777777778,
              "#fb9f3a"
             ],
             [
              0.8888888888888888,
              "#fdca26"
             ],
             [
              1,
              "#f0f921"
             ]
            ],
            "type": "heatmap"
           }
          ],
          "heatmapgl": [
           {
            "colorbar": {
             "outlinewidth": 0,
             "ticks": ""
            },
            "colorscale": [
             [
              0,
              "#0d0887"
             ],
             [
              0.1111111111111111,
              "#46039f"
             ],
             [
              0.2222222222222222,
              "#7201a8"
             ],
             [
              0.3333333333333333,
              "#9c179e"
             ],
             [
              0.4444444444444444,
              "#bd3786"
             ],
             [
              0.5555555555555556,
              "#d8576b"
             ],
             [
              0.6666666666666666,
              "#ed7953"
             ],
             [
              0.7777777777777778,
              "#fb9f3a"
             ],
             [
              0.8888888888888888,
              "#fdca26"
             ],
             [
              1,
              "#f0f921"
             ]
            ],
            "type": "heatmapgl"
           }
          ],
          "histogram": [
           {
            "marker": {
             "pattern": {
              "fillmode": "overlay",
              "size": 10,
              "solidity": 0.2
             }
            },
            "type": "histogram"
           }
          ],
          "histogram2d": [
           {
            "colorbar": {
             "outlinewidth": 0,
             "ticks": ""
            },
            "colorscale": [
             [
              0,
              "#0d0887"
             ],
             [
              0.1111111111111111,
              "#46039f"
             ],
             [
              0.2222222222222222,
              "#7201a8"
             ],
             [
              0.3333333333333333,
              "#9c179e"
             ],
             [
              0.4444444444444444,
              "#bd3786"
             ],
             [
              0.5555555555555556,
              "#d8576b"
             ],
             [
              0.6666666666666666,
              "#ed7953"
             ],
             [
              0.7777777777777778,
              "#fb9f3a"
             ],
             [
              0.8888888888888888,
              "#fdca26"
             ],
             [
              1,
              "#f0f921"
             ]
            ],
            "type": "histogram2d"
           }
          ],
          "histogram2dcontour": [
           {
            "colorbar": {
             "outlinewidth": 0,
             "ticks": ""
            },
            "colorscale": [
             [
              0,
              "#0d0887"
             ],
             [
              0.1111111111111111,
              "#46039f"
             ],
             [
              0.2222222222222222,
              "#7201a8"
             ],
             [
              0.3333333333333333,
              "#9c179e"
             ],
             [
              0.4444444444444444,
              "#bd3786"
             ],
             [
              0.5555555555555556,
              "#d8576b"
             ],
             [
              0.6666666666666666,
              "#ed7953"
             ],
             [
              0.7777777777777778,
              "#fb9f3a"
             ],
             [
              0.8888888888888888,
              "#fdca26"
             ],
             [
              1,
              "#f0f921"
             ]
            ],
            "type": "histogram2dcontour"
           }
          ],
          "mesh3d": [
           {
            "colorbar": {
             "outlinewidth": 0,
             "ticks": ""
            },
            "type": "mesh3d"
           }
          ],
          "parcoords": [
           {
            "line": {
             "colorbar": {
              "outlinewidth": 0,
              "ticks": ""
             }
            },
            "type": "parcoords"
           }
          ],
          "pie": [
           {
            "automargin": true,
            "type": "pie"
           }
          ],
          "scatter": [
           {
            "fillpattern": {
             "fillmode": "overlay",
             "size": 10,
             "solidity": 0.2
            },
            "type": "scatter"
           }
          ],
          "scatter3d": [
           {
            "line": {
             "colorbar": {
              "outlinewidth": 0,
              "ticks": ""
             }
            },
            "marker": {
             "colorbar": {
              "outlinewidth": 0,
              "ticks": ""
             }
            },
            "type": "scatter3d"
           }
          ],
          "scattercarpet": [
           {
            "marker": {
             "colorbar": {
              "outlinewidth": 0,
              "ticks": ""
             }
            },
            "type": "scattercarpet"
           }
          ],
          "scattergeo": [
           {
            "marker": {
             "colorbar": {
              "outlinewidth": 0,
              "ticks": ""
             }
            },
            "type": "scattergeo"
           }
          ],
          "scattergl": [
           {
            "marker": {
             "colorbar": {
              "outlinewidth": 0,
              "ticks": ""
             }
            },
            "type": "scattergl"
           }
          ],
          "scattermapbox": [
           {
            "marker": {
             "colorbar": {
              "outlinewidth": 0,
              "ticks": ""
             }
            },
            "type": "scattermapbox"
           }
          ],
          "scatterpolar": [
           {
            "marker": {
             "colorbar": {
              "outlinewidth": 0,
              "ticks": ""
             }
            },
            "type": "scatterpolar"
           }
          ],
          "scatterpolargl": [
           {
            "marker": {
             "colorbar": {
              "outlinewidth": 0,
              "ticks": ""
             }
            },
            "type": "scatterpolargl"
           }
          ],
          "scatterternary": [
           {
            "marker": {
             "colorbar": {
              "outlinewidth": 0,
              "ticks": ""
             }
            },
            "type": "scatterternary"
           }
          ],
          "surface": [
           {
            "colorbar": {
             "outlinewidth": 0,
             "ticks": ""
            },
            "colorscale": [
             [
              0,
              "#0d0887"
             ],
             [
              0.1111111111111111,
              "#46039f"
             ],
             [
              0.2222222222222222,
              "#7201a8"
             ],
             [
              0.3333333333333333,
              "#9c179e"
             ],
             [
              0.4444444444444444,
              "#bd3786"
             ],
             [
              0.5555555555555556,
              "#d8576b"
             ],
             [
              0.6666666666666666,
              "#ed7953"
             ],
             [
              0.7777777777777778,
              "#fb9f3a"
             ],
             [
              0.8888888888888888,
              "#fdca26"
             ],
             [
              1,
              "#f0f921"
             ]
            ],
            "type": "surface"
           }
          ],
          "table": [
           {
            "cells": {
             "fill": {
              "color": "#EBF0F8"
             },
             "line": {
              "color": "white"
             }
            },
            "header": {
             "fill": {
              "color": "#C8D4E3"
             },
             "line": {
              "color": "white"
             }
            },
            "type": "table"
           }
          ]
         },
         "layout": {
          "annotationdefaults": {
           "arrowcolor": "#2a3f5f",
           "arrowhead": 0,
           "arrowwidth": 1
          },
          "autotypenumbers": "strict",
          "coloraxis": {
           "colorbar": {
            "outlinewidth": 0,
            "ticks": ""
           }
          },
          "colorscale": {
           "diverging": [
            [
             0,
             "#8e0152"
            ],
            [
             0.1,
             "#c51b7d"
            ],
            [
             0.2,
             "#de77ae"
            ],
            [
             0.3,
             "#f1b6da"
            ],
            [
             0.4,
             "#fde0ef"
            ],
            [
             0.5,
             "#f7f7f7"
            ],
            [
             0.6,
             "#e6f5d0"
            ],
            [
             0.7,
             "#b8e186"
            ],
            [
             0.8,
             "#7fbc41"
            ],
            [
             0.9,
             "#4d9221"
            ],
            [
             1,
             "#276419"
            ]
           ],
           "sequential": [
            [
             0,
             "#0d0887"
            ],
            [
             0.1111111111111111,
             "#46039f"
            ],
            [
             0.2222222222222222,
             "#7201a8"
            ],
            [
             0.3333333333333333,
             "#9c179e"
            ],
            [
             0.4444444444444444,
             "#bd3786"
            ],
            [
             0.5555555555555556,
             "#d8576b"
            ],
            [
             0.6666666666666666,
             "#ed7953"
            ],
            [
             0.7777777777777778,
             "#fb9f3a"
            ],
            [
             0.8888888888888888,
             "#fdca26"
            ],
            [
             1,
             "#f0f921"
            ]
           ],
           "sequentialminus": [
            [
             0,
             "#0d0887"
            ],
            [
             0.1111111111111111,
             "#46039f"
            ],
            [
             0.2222222222222222,
             "#7201a8"
            ],
            [
             0.3333333333333333,
             "#9c179e"
            ],
            [
             0.4444444444444444,
             "#bd3786"
            ],
            [
             0.5555555555555556,
             "#d8576b"
            ],
            [
             0.6666666666666666,
             "#ed7953"
            ],
            [
             0.7777777777777778,
             "#fb9f3a"
            ],
            [
             0.8888888888888888,
             "#fdca26"
            ],
            [
             1,
             "#f0f921"
            ]
           ]
          },
          "colorway": [
           "#636efa",
           "#EF553B",
           "#00cc96",
           "#ab63fa",
           "#FFA15A",
           "#19d3f3",
           "#FF6692",
           "#B6E880",
           "#FF97FF",
           "#FECB52"
          ],
          "font": {
           "color": "#2a3f5f"
          },
          "geo": {
           "bgcolor": "white",
           "lakecolor": "white",
           "landcolor": "#E5ECF6",
           "showlakes": true,
           "showland": true,
           "subunitcolor": "white"
          },
          "hoverlabel": {
           "align": "left"
          },
          "hovermode": "closest",
          "mapbox": {
           "style": "light"
          },
          "paper_bgcolor": "white",
          "plot_bgcolor": "#E5ECF6",
          "polar": {
           "angularaxis": {
            "gridcolor": "white",
            "linecolor": "white",
            "ticks": ""
           },
           "bgcolor": "#E5ECF6",
           "radialaxis": {
            "gridcolor": "white",
            "linecolor": "white",
            "ticks": ""
           }
          },
          "scene": {
           "xaxis": {
            "backgroundcolor": "#E5ECF6",
            "gridcolor": "white",
            "gridwidth": 2,
            "linecolor": "white",
            "showbackground": true,
            "ticks": "",
            "zerolinecolor": "white"
           },
           "yaxis": {
            "backgroundcolor": "#E5ECF6",
            "gridcolor": "white",
            "gridwidth": 2,
            "linecolor": "white",
            "showbackground": true,
            "ticks": "",
            "zerolinecolor": "white"
           },
           "zaxis": {
            "backgroundcolor": "#E5ECF6",
            "gridcolor": "white",
            "gridwidth": 2,
            "linecolor": "white",
            "showbackground": true,
            "ticks": "",
            "zerolinecolor": "white"
           }
          },
          "shapedefaults": {
           "line": {
            "color": "#2a3f5f"
           }
          },
          "ternary": {
           "aaxis": {
            "gridcolor": "white",
            "linecolor": "white",
            "ticks": ""
           },
           "baxis": {
            "gridcolor": "white",
            "linecolor": "white",
            "ticks": ""
           },
           "bgcolor": "#E5ECF6",
           "caxis": {
            "gridcolor": "white",
            "linecolor": "white",
            "ticks": ""
           }
          },
          "title": {
           "x": 0.05
          },
          "xaxis": {
           "automargin": true,
           "gridcolor": "white",
           "linecolor": "white",
           "ticks": "",
           "title": {
            "standoff": 15
           },
           "zerolinecolor": "white",
           "zerolinewidth": 2
          },
          "yaxis": {
           "automargin": true,
           "gridcolor": "white",
           "linecolor": "white",
           "ticks": "",
           "title": {
            "standoff": 15
           },
           "zerolinecolor": "white",
           "zerolinewidth": 2
          }
         }
        },
        "title": {
         "text": "Hyperparameter Importances"
        },
        "xaxis": {
         "title": {
          "text": "Importance for Objective Value"
         }
        },
        "yaxis": {
         "title": {
          "text": "Hyperparameter"
         }
        }
       }
      }
     },
     "metadata": {},
     "output_type": "display_data"
    }
   ],
   "source": [
    "#하이퍼파라미터별 중요도를 확인할 수 있는 그래프\n",
    "optuna.visualization.plot_param_importances(study)"
   ]
  },
  {
   "cell_type": "code",
   "execution_count": 50,
   "metadata": {},
   "outputs": [
    {
     "data": {
      "application/vnd.plotly.v1+json": {
       "config": {
        "plotlyServerURL": "https://plot.ly"
       },
       "data": [
        {
         "mode": "markers",
         "name": "Objective Value",
         "type": "scatter",
         "x": [
          0,
          1,
          2,
          3,
          4,
          5,
          6,
          7,
          8,
          9,
          10,
          11,
          12,
          13,
          14,
          15,
          16,
          17,
          18,
          19,
          20,
          21,
          22,
          23,
          24,
          25,
          26,
          27,
          28,
          29,
          30,
          31,
          32,
          33,
          34,
          35,
          36,
          37,
          38,
          39,
          40,
          41,
          42,
          43,
          44,
          45,
          46,
          47,
          48,
          49,
          50,
          51,
          52,
          53,
          54,
          55,
          56,
          57,
          58,
          59,
          60,
          61,
          62,
          63,
          64,
          65,
          66,
          67,
          68,
          69,
          70,
          71,
          72,
          73,
          74,
          75,
          76,
          77,
          78,
          79,
          80,
          81,
          82,
          83,
          84,
          85,
          86,
          87,
          88,
          89,
          90,
          91,
          92,
          93,
          94,
          95,
          96,
          97,
          98,
          99
         ],
         "y": [
          0.00042158516020236085,
          0.0006084860399260456,
          0.00021246458923512748,
          0.0004681647940074907,
          0.0003748740657435392,
          0.0003048959249486954,
          0.0004681647940074907,
          0.0003749267721148213,
          0.0004449440307245562,
          0.00030502469526859767,
          0.000655223653573894,
          0.000655223653573894,
          0.0006552006552006552,
          0.0006318449873631002,
          0.0006084860399260456,
          0.0005149451115324298,
          0.0006084860399260456,
          0.0006552006552006552,
          0.00046823055672613186,
          0.0005850827306981206,
          0.00046823055672613186,
          0.000655223653573894,
          0.0006318449873631002,
          0.0006318449873631002,
          0.0005850827306981206,
          0.0006552466535617337,
          0.0005851032707272833,
          0.0006318449873631002,
          0.0005617188597107147,
          0.0006084860399260456,
          0.0006084646797954622,
          0.000655223653573894,
          0.0006318449873631002,
          0.000655223653573894,
          0.0006084646797954622,
          0.0006318449873631002,
          0.0006552466535617337,
          0.0005149451115324298,
          0.0006084646797954622,
          0.0005851032707272833,
          0.000468181232955277,
          0.0006552466535617337,
          0.0006552466535617337,
          0.0006084860399260456,
          0.000655223653573894,
          0.0006318449873631002,
          0.000655223653573894,
          0.0005383328067034137,
          0.0006552006552006552,
          0.0006084646797954622,
          0.000655223653573894,
          0.000655223653573894,
          0.0006552006552006552,
          0.0006318449873631002,
          0.000655223653573894,
          0.0006084646797954622,
          0.0006318228088033978,
          0.0006084646797954622,
          0.0005851032707272833,
          0.000655223653573894,
          0.0005149451115324298,
          0.0006552006552006552,
          0.0006318449873631002,
          0.0006318449873631002,
          0.0005851032707272833,
          0.000655223653573894,
          0.000655223653573894,
          0.0006084860399260456,
          0.0005850827306981206,
          0.0006318228088033978,
          0.0006318449873631002,
          0.0006552006552006552,
          0.0006552466535617337,
          0.0006084646797954622,
          0.0006318449873631002,
          0.000655223653573894,
          0.000631867167479903,
          0.0006084860399260456,
          0.000631867167479903,
          0.0006552006552006552,
          0.0006318449873631002,
          0.0006318449873631002,
          0.0006084646797954622,
          0.0006318449873631002,
          0.0006084646797954622,
          0.0006552006552006552,
          0.0006084860399260456,
          0.0006318449873631002,
          0.000655223653573894,
          0.0006318449873631002,
          0.0006318449873631002,
          0.0006552006552006552,
          0.0006318449873631002,
          0.0006318449873631002,
          0.0006084646797954622,
          0.0005850827306981206,
          0.0006552006552006552,
          0.000655223653573894,
          0.0006084860399260456,
          0.000655223653573894
         ]
        },
        {
         "name": "Best Value",
         "type": "scatter",
         "x": [
          0,
          1,
          2,
          3,
          4,
          5,
          6,
          7,
          8,
          9,
          10,
          11,
          12,
          13,
          14,
          15,
          16,
          17,
          18,
          19,
          20,
          21,
          22,
          23,
          24,
          25,
          26,
          27,
          28,
          29,
          30,
          31,
          32,
          33,
          34,
          35,
          36,
          37,
          38,
          39,
          40,
          41,
          42,
          43,
          44,
          45,
          46,
          47,
          48,
          49,
          50,
          51,
          52,
          53,
          54,
          55,
          56,
          57,
          58,
          59,
          60,
          61,
          62,
          63,
          64,
          65,
          66,
          67,
          68,
          69,
          70,
          71,
          72,
          73,
          74,
          75,
          76,
          77,
          78,
          79,
          80,
          81,
          82,
          83,
          84,
          85,
          86,
          87,
          88,
          89,
          90,
          91,
          92,
          93,
          94,
          95,
          96,
          97,
          98,
          99
         ],
         "y": [
          0.00042158516020236085,
          0.0006084860399260456,
          0.0006084860399260456,
          0.0006084860399260456,
          0.0006084860399260456,
          0.0006084860399260456,
          0.0006084860399260456,
          0.0006084860399260456,
          0.0006084860399260456,
          0.0006084860399260456,
          0.000655223653573894,
          0.000655223653573894,
          0.000655223653573894,
          0.000655223653573894,
          0.000655223653573894,
          0.000655223653573894,
          0.000655223653573894,
          0.000655223653573894,
          0.000655223653573894,
          0.000655223653573894,
          0.000655223653573894,
          0.000655223653573894,
          0.000655223653573894,
          0.000655223653573894,
          0.000655223653573894,
          0.0006552466535617337,
          0.0006552466535617337,
          0.0006552466535617337,
          0.0006552466535617337,
          0.0006552466535617337,
          0.0006552466535617337,
          0.0006552466535617337,
          0.0006552466535617337,
          0.0006552466535617337,
          0.0006552466535617337,
          0.0006552466535617337,
          0.0006552466535617337,
          0.0006552466535617337,
          0.0006552466535617337,
          0.0006552466535617337,
          0.0006552466535617337,
          0.0006552466535617337,
          0.0006552466535617337,
          0.0006552466535617337,
          0.0006552466535617337,
          0.0006552466535617337,
          0.0006552466535617337,
          0.0006552466535617337,
          0.0006552466535617337,
          0.0006552466535617337,
          0.0006552466535617337,
          0.0006552466535617337,
          0.0006552466535617337,
          0.0006552466535617337,
          0.0006552466535617337,
          0.0006552466535617337,
          0.0006552466535617337,
          0.0006552466535617337,
          0.0006552466535617337,
          0.0006552466535617337,
          0.0006552466535617337,
          0.0006552466535617337,
          0.0006552466535617337,
          0.0006552466535617337,
          0.0006552466535617337,
          0.0006552466535617337,
          0.0006552466535617337,
          0.0006552466535617337,
          0.0006552466535617337,
          0.0006552466535617337,
          0.0006552466535617337,
          0.0006552466535617337,
          0.0006552466535617337,
          0.0006552466535617337,
          0.0006552466535617337,
          0.0006552466535617337,
          0.0006552466535617337,
          0.0006552466535617337,
          0.0006552466535617337,
          0.0006552466535617337,
          0.0006552466535617337,
          0.0006552466535617337,
          0.0006552466535617337,
          0.0006552466535617337,
          0.0006552466535617337,
          0.0006552466535617337,
          0.0006552466535617337,
          0.0006552466535617337,
          0.0006552466535617337,
          0.0006552466535617337,
          0.0006552466535617337,
          0.0006552466535617337,
          0.0006552466535617337,
          0.0006552466535617337,
          0.0006552466535617337,
          0.0006552466535617337,
          0.0006552466535617337,
          0.0006552466535617337,
          0.0006552466535617337,
          0.0006552466535617337
         ]
        }
       ],
       "layout": {
        "template": {
         "data": {
          "bar": [
           {
            "error_x": {
             "color": "#2a3f5f"
            },
            "error_y": {
             "color": "#2a3f5f"
            },
            "marker": {
             "line": {
              "color": "#E5ECF6",
              "width": 0.5
             },
             "pattern": {
              "fillmode": "overlay",
              "size": 10,
              "solidity": 0.2
             }
            },
            "type": "bar"
           }
          ],
          "barpolar": [
           {
            "marker": {
             "line": {
              "color": "#E5ECF6",
              "width": 0.5
             },
             "pattern": {
              "fillmode": "overlay",
              "size": 10,
              "solidity": 0.2
             }
            },
            "type": "barpolar"
           }
          ],
          "carpet": [
           {
            "aaxis": {
             "endlinecolor": "#2a3f5f",
             "gridcolor": "white",
             "linecolor": "white",
             "minorgridcolor": "white",
             "startlinecolor": "#2a3f5f"
            },
            "baxis": {
             "endlinecolor": "#2a3f5f",
             "gridcolor": "white",
             "linecolor": "white",
             "minorgridcolor": "white",
             "startlinecolor": "#2a3f5f"
            },
            "type": "carpet"
           }
          ],
          "choropleth": [
           {
            "colorbar": {
             "outlinewidth": 0,
             "ticks": ""
            },
            "type": "choropleth"
           }
          ],
          "contour": [
           {
            "colorbar": {
             "outlinewidth": 0,
             "ticks": ""
            },
            "colorscale": [
             [
              0,
              "#0d0887"
             ],
             [
              0.1111111111111111,
              "#46039f"
             ],
             [
              0.2222222222222222,
              "#7201a8"
             ],
             [
              0.3333333333333333,
              "#9c179e"
             ],
             [
              0.4444444444444444,
              "#bd3786"
             ],
             [
              0.5555555555555556,
              "#d8576b"
             ],
             [
              0.6666666666666666,
              "#ed7953"
             ],
             [
              0.7777777777777778,
              "#fb9f3a"
             ],
             [
              0.8888888888888888,
              "#fdca26"
             ],
             [
              1,
              "#f0f921"
             ]
            ],
            "type": "contour"
           }
          ],
          "contourcarpet": [
           {
            "colorbar": {
             "outlinewidth": 0,
             "ticks": ""
            },
            "type": "contourcarpet"
           }
          ],
          "heatmap": [
           {
            "colorbar": {
             "outlinewidth": 0,
             "ticks": ""
            },
            "colorscale": [
             [
              0,
              "#0d0887"
             ],
             [
              0.1111111111111111,
              "#46039f"
             ],
             [
              0.2222222222222222,
              "#7201a8"
             ],
             [
              0.3333333333333333,
              "#9c179e"
             ],
             [
              0.4444444444444444,
              "#bd3786"
             ],
             [
              0.5555555555555556,
              "#d8576b"
             ],
             [
              0.6666666666666666,
              "#ed7953"
             ],
             [
              0.7777777777777778,
              "#fb9f3a"
             ],
             [
              0.8888888888888888,
              "#fdca26"
             ],
             [
              1,
              "#f0f921"
             ]
            ],
            "type": "heatmap"
           }
          ],
          "heatmapgl": [
           {
            "colorbar": {
             "outlinewidth": 0,
             "ticks": ""
            },
            "colorscale": [
             [
              0,
              "#0d0887"
             ],
             [
              0.1111111111111111,
              "#46039f"
             ],
             [
              0.2222222222222222,
              "#7201a8"
             ],
             [
              0.3333333333333333,
              "#9c179e"
             ],
             [
              0.4444444444444444,
              "#bd3786"
             ],
             [
              0.5555555555555556,
              "#d8576b"
             ],
             [
              0.6666666666666666,
              "#ed7953"
             ],
             [
              0.7777777777777778,
              "#fb9f3a"
             ],
             [
              0.8888888888888888,
              "#fdca26"
             ],
             [
              1,
              "#f0f921"
             ]
            ],
            "type": "heatmapgl"
           }
          ],
          "histogram": [
           {
            "marker": {
             "pattern": {
              "fillmode": "overlay",
              "size": 10,
              "solidity": 0.2
             }
            },
            "type": "histogram"
           }
          ],
          "histogram2d": [
           {
            "colorbar": {
             "outlinewidth": 0,
             "ticks": ""
            },
            "colorscale": [
             [
              0,
              "#0d0887"
             ],
             [
              0.1111111111111111,
              "#46039f"
             ],
             [
              0.2222222222222222,
              "#7201a8"
             ],
             [
              0.3333333333333333,
              "#9c179e"
             ],
             [
              0.4444444444444444,
              "#bd3786"
             ],
             [
              0.5555555555555556,
              "#d8576b"
             ],
             [
              0.6666666666666666,
              "#ed7953"
             ],
             [
              0.7777777777777778,
              "#fb9f3a"
             ],
             [
              0.8888888888888888,
              "#fdca26"
             ],
             [
              1,
              "#f0f921"
             ]
            ],
            "type": "histogram2d"
           }
          ],
          "histogram2dcontour": [
           {
            "colorbar": {
             "outlinewidth": 0,
             "ticks": ""
            },
            "colorscale": [
             [
              0,
              "#0d0887"
             ],
             [
              0.1111111111111111,
              "#46039f"
             ],
             [
              0.2222222222222222,
              "#7201a8"
             ],
             [
              0.3333333333333333,
              "#9c179e"
             ],
             [
              0.4444444444444444,
              "#bd3786"
             ],
             [
              0.5555555555555556,
              "#d8576b"
             ],
             [
              0.6666666666666666,
              "#ed7953"
             ],
             [
              0.7777777777777778,
              "#fb9f3a"
             ],
             [
              0.8888888888888888,
              "#fdca26"
             ],
             [
              1,
              "#f0f921"
             ]
            ],
            "type": "histogram2dcontour"
           }
          ],
          "mesh3d": [
           {
            "colorbar": {
             "outlinewidth": 0,
             "ticks": ""
            },
            "type": "mesh3d"
           }
          ],
          "parcoords": [
           {
            "line": {
             "colorbar": {
              "outlinewidth": 0,
              "ticks": ""
             }
            },
            "type": "parcoords"
           }
          ],
          "pie": [
           {
            "automargin": true,
            "type": "pie"
           }
          ],
          "scatter": [
           {
            "fillpattern": {
             "fillmode": "overlay",
             "size": 10,
             "solidity": 0.2
            },
            "type": "scatter"
           }
          ],
          "scatter3d": [
           {
            "line": {
             "colorbar": {
              "outlinewidth": 0,
              "ticks": ""
             }
            },
            "marker": {
             "colorbar": {
              "outlinewidth": 0,
              "ticks": ""
             }
            },
            "type": "scatter3d"
           }
          ],
          "scattercarpet": [
           {
            "marker": {
             "colorbar": {
              "outlinewidth": 0,
              "ticks": ""
             }
            },
            "type": "scattercarpet"
           }
          ],
          "scattergeo": [
           {
            "marker": {
             "colorbar": {
              "outlinewidth": 0,
              "ticks": ""
             }
            },
            "type": "scattergeo"
           }
          ],
          "scattergl": [
           {
            "marker": {
             "colorbar": {
              "outlinewidth": 0,
              "ticks": ""
             }
            },
            "type": "scattergl"
           }
          ],
          "scattermapbox": [
           {
            "marker": {
             "colorbar": {
              "outlinewidth": 0,
              "ticks": ""
             }
            },
            "type": "scattermapbox"
           }
          ],
          "scatterpolar": [
           {
            "marker": {
             "colorbar": {
              "outlinewidth": 0,
              "ticks": ""
             }
            },
            "type": "scatterpolar"
           }
          ],
          "scatterpolargl": [
           {
            "marker": {
             "colorbar": {
              "outlinewidth": 0,
              "ticks": ""
             }
            },
            "type": "scatterpolargl"
           }
          ],
          "scatterternary": [
           {
            "marker": {
             "colorbar": {
              "outlinewidth": 0,
              "ticks": ""
             }
            },
            "type": "scatterternary"
           }
          ],
          "surface": [
           {
            "colorbar": {
             "outlinewidth": 0,
             "ticks": ""
            },
            "colorscale": [
             [
              0,
              "#0d0887"
             ],
             [
              0.1111111111111111,
              "#46039f"
             ],
             [
              0.2222222222222222,
              "#7201a8"
             ],
             [
              0.3333333333333333,
              "#9c179e"
             ],
             [
              0.4444444444444444,
              "#bd3786"
             ],
             [
              0.5555555555555556,
              "#d8576b"
             ],
             [
              0.6666666666666666,
              "#ed7953"
             ],
             [
              0.7777777777777778,
              "#fb9f3a"
             ],
             [
              0.8888888888888888,
              "#fdca26"
             ],
             [
              1,
              "#f0f921"
             ]
            ],
            "type": "surface"
           }
          ],
          "table": [
           {
            "cells": {
             "fill": {
              "color": "#EBF0F8"
             },
             "line": {
              "color": "white"
             }
            },
            "header": {
             "fill": {
              "color": "#C8D4E3"
             },
             "line": {
              "color": "white"
             }
            },
            "type": "table"
           }
          ]
         },
         "layout": {
          "annotationdefaults": {
           "arrowcolor": "#2a3f5f",
           "arrowhead": 0,
           "arrowwidth": 1
          },
          "autotypenumbers": "strict",
          "coloraxis": {
           "colorbar": {
            "outlinewidth": 0,
            "ticks": ""
           }
          },
          "colorscale": {
           "diverging": [
            [
             0,
             "#8e0152"
            ],
            [
             0.1,
             "#c51b7d"
            ],
            [
             0.2,
             "#de77ae"
            ],
            [
             0.3,
             "#f1b6da"
            ],
            [
             0.4,
             "#fde0ef"
            ],
            [
             0.5,
             "#f7f7f7"
            ],
            [
             0.6,
             "#e6f5d0"
            ],
            [
             0.7,
             "#b8e186"
            ],
            [
             0.8,
             "#7fbc41"
            ],
            [
             0.9,
             "#4d9221"
            ],
            [
             1,
             "#276419"
            ]
           ],
           "sequential": [
            [
             0,
             "#0d0887"
            ],
            [
             0.1111111111111111,
             "#46039f"
            ],
            [
             0.2222222222222222,
             "#7201a8"
            ],
            [
             0.3333333333333333,
             "#9c179e"
            ],
            [
             0.4444444444444444,
             "#bd3786"
            ],
            [
             0.5555555555555556,
             "#d8576b"
            ],
            [
             0.6666666666666666,
             "#ed7953"
            ],
            [
             0.7777777777777778,
             "#fb9f3a"
            ],
            [
             0.8888888888888888,
             "#fdca26"
            ],
            [
             1,
             "#f0f921"
            ]
           ],
           "sequentialminus": [
            [
             0,
             "#0d0887"
            ],
            [
             0.1111111111111111,
             "#46039f"
            ],
            [
             0.2222222222222222,
             "#7201a8"
            ],
            [
             0.3333333333333333,
             "#9c179e"
            ],
            [
             0.4444444444444444,
             "#bd3786"
            ],
            [
             0.5555555555555556,
             "#d8576b"
            ],
            [
             0.6666666666666666,
             "#ed7953"
            ],
            [
             0.7777777777777778,
             "#fb9f3a"
            ],
            [
             0.8888888888888888,
             "#fdca26"
            ],
            [
             1,
             "#f0f921"
            ]
           ]
          },
          "colorway": [
           "#636efa",
           "#EF553B",
           "#00cc96",
           "#ab63fa",
           "#FFA15A",
           "#19d3f3",
           "#FF6692",
           "#B6E880",
           "#FF97FF",
           "#FECB52"
          ],
          "font": {
           "color": "#2a3f5f"
          },
          "geo": {
           "bgcolor": "white",
           "lakecolor": "white",
           "landcolor": "#E5ECF6",
           "showlakes": true,
           "showland": true,
           "subunitcolor": "white"
          },
          "hoverlabel": {
           "align": "left"
          },
          "hovermode": "closest",
          "mapbox": {
           "style": "light"
          },
          "paper_bgcolor": "white",
          "plot_bgcolor": "#E5ECF6",
          "polar": {
           "angularaxis": {
            "gridcolor": "white",
            "linecolor": "white",
            "ticks": ""
           },
           "bgcolor": "#E5ECF6",
           "radialaxis": {
            "gridcolor": "white",
            "linecolor": "white",
            "ticks": ""
           }
          },
          "scene": {
           "xaxis": {
            "backgroundcolor": "#E5ECF6",
            "gridcolor": "white",
            "gridwidth": 2,
            "linecolor": "white",
            "showbackground": true,
            "ticks": "",
            "zerolinecolor": "white"
           },
           "yaxis": {
            "backgroundcolor": "#E5ECF6",
            "gridcolor": "white",
            "gridwidth": 2,
            "linecolor": "white",
            "showbackground": true,
            "ticks": "",
            "zerolinecolor": "white"
           },
           "zaxis": {
            "backgroundcolor": "#E5ECF6",
            "gridcolor": "white",
            "gridwidth": 2,
            "linecolor": "white",
            "showbackground": true,
            "ticks": "",
            "zerolinecolor": "white"
           }
          },
          "shapedefaults": {
           "line": {
            "color": "#2a3f5f"
           }
          },
          "ternary": {
           "aaxis": {
            "gridcolor": "white",
            "linecolor": "white",
            "ticks": ""
           },
           "baxis": {
            "gridcolor": "white",
            "linecolor": "white",
            "ticks": ""
           },
           "bgcolor": "#E5ECF6",
           "caxis": {
            "gridcolor": "white",
            "linecolor": "white",
            "ticks": ""
           }
          },
          "title": {
           "x": 0.05
          },
          "xaxis": {
           "automargin": true,
           "gridcolor": "white",
           "linecolor": "white",
           "ticks": "",
           "title": {
            "standoff": 15
           },
           "zerolinecolor": "white",
           "zerolinewidth": 2
          },
          "yaxis": {
           "automargin": true,
           "gridcolor": "white",
           "linecolor": "white",
           "ticks": "",
           "title": {
            "standoff": 15
           },
           "zerolinecolor": "white",
           "zerolinewidth": 2
          }
         }
        },
        "title": {
         "text": "Optimization History Plot"
        },
        "xaxis": {
         "title": {
          "text": "Trial"
         }
        },
        "yaxis": {
         "title": {
          "text": "Objective Value"
         }
        }
       }
      }
     },
     "metadata": {},
     "output_type": "display_data"
    }
   ],
   "source": [
    "#하이퍼파라미터 최적화 과정 확인\n",
    "optuna.visualization.plot_optimization_history(study)"
   ]
  }
 ],
 "metadata": {
  "kernelspec": {
   "display_name": "base",
   "language": "python",
   "name": "python3"
  },
  "language_info": {
   "codemirror_mode": {
    "name": "ipython",
    "version": 3
   },
   "file_extension": ".py",
   "mimetype": "text/x-python",
   "name": "python",
   "nbconvert_exporter": "python",
   "pygments_lexer": "ipython3",
   "version": "3.10.9"
  },
  "orig_nbformat": 4
 },
 "nbformat": 4,
 "nbformat_minor": 2
}
